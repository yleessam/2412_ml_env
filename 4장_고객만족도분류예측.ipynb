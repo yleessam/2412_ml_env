{
  "cells": [
    {
      "cell_type": "markdown",
      "metadata": {
        "id": "view-in-github",
        "colab_type": "text"
      },
      "source": [
        "<a href=\"https://colab.research.google.com/github/yleessam/2412_ml_env/blob/main/4%EC%9E%A5_%EA%B3%A0%EA%B0%9D%EB%A7%8C%EC%A1%B1%EB%8F%84%EB%B6%84%EB%A5%98%EC%98%88%EC%B8%A1.ipynb\" target=\"_parent\"><img src=\"https://colab.research.google.com/assets/colab-badge.svg\" alt=\"Open In Colab\"/></a>"
      ]
    },
    {
      "cell_type": "code",
      "source": [],
      "metadata": {
        "id": "7TQS0iBk38MC"
      },
      "execution_count": null,
      "outputs": []
    },
    {
      "cell_type": "code",
      "execution_count": 8,
      "metadata": {
        "colab": {
          "base_uri": "https://localhost:8080/",
          "height": 219
        },
        "id": "CZyyqIQdz3jw",
        "outputId": "12d3f147-4a6b-4d36-e016-b53ac9051a20"
      },
      "outputs": [
        {
          "output_type": "stream",
          "name": "stdout",
          "text": [
            "dataset shape: (76020, 371)\n"
          ]
        },
        {
          "output_type": "execute_result",
          "data": {
            "text/plain": [
              "   ID  var3  var15  imp_ent_var16_ult1  imp_op_var39_comer_ult1  \\\n",
              "0   1     2     23                 0.0                      0.0   \n",
              "1   3     2     34                 0.0                      0.0   \n",
              "2   4     2     23                 0.0                      0.0   \n",
              "\n",
              "   imp_op_var39_comer_ult3  imp_op_var40_comer_ult1  imp_op_var40_comer_ult3  \\\n",
              "0                      0.0                      0.0                      0.0   \n",
              "1                      0.0                      0.0                      0.0   \n",
              "2                      0.0                      0.0                      0.0   \n",
              "\n",
              "   imp_op_var40_efect_ult1  imp_op_var40_efect_ult3  ...  \\\n",
              "0                      0.0                      0.0  ...   \n",
              "1                      0.0                      0.0  ...   \n",
              "2                      0.0                      0.0  ...   \n",
              "\n",
              "   saldo_medio_var33_hace2  saldo_medio_var33_hace3  saldo_medio_var33_ult1  \\\n",
              "0                      0.0                      0.0                     0.0   \n",
              "1                      0.0                      0.0                     0.0   \n",
              "2                      0.0                      0.0                     0.0   \n",
              "\n",
              "   saldo_medio_var33_ult3  saldo_medio_var44_hace2  saldo_medio_var44_hace3  \\\n",
              "0                     0.0                      0.0                      0.0   \n",
              "1                     0.0                      0.0                      0.0   \n",
              "2                     0.0                      0.0                      0.0   \n",
              "\n",
              "   saldo_medio_var44_ult1  saldo_medio_var44_ult3     var38  TARGET  \n",
              "0                     0.0                     0.0  39205.17       0  \n",
              "1                     0.0                     0.0  49278.03       0  \n",
              "2                     0.0                     0.0  67333.77       0  \n",
              "\n",
              "[3 rows x 371 columns]"
            ],
            "text/html": [
              "\n",
              "  <div id=\"df-8fc5c73a-6e35-40c1-a9f5-c492ddca19f1\" class=\"colab-df-container\">\n",
              "    <div>\n",
              "<style scoped>\n",
              "    .dataframe tbody tr th:only-of-type {\n",
              "        vertical-align: middle;\n",
              "    }\n",
              "\n",
              "    .dataframe tbody tr th {\n",
              "        vertical-align: top;\n",
              "    }\n",
              "\n",
              "    .dataframe thead th {\n",
              "        text-align: right;\n",
              "    }\n",
              "</style>\n",
              "<table border=\"1\" class=\"dataframe\">\n",
              "  <thead>\n",
              "    <tr style=\"text-align: right;\">\n",
              "      <th></th>\n",
              "      <th>ID</th>\n",
              "      <th>var3</th>\n",
              "      <th>var15</th>\n",
              "      <th>imp_ent_var16_ult1</th>\n",
              "      <th>imp_op_var39_comer_ult1</th>\n",
              "      <th>imp_op_var39_comer_ult3</th>\n",
              "      <th>imp_op_var40_comer_ult1</th>\n",
              "      <th>imp_op_var40_comer_ult3</th>\n",
              "      <th>imp_op_var40_efect_ult1</th>\n",
              "      <th>imp_op_var40_efect_ult3</th>\n",
              "      <th>...</th>\n",
              "      <th>saldo_medio_var33_hace2</th>\n",
              "      <th>saldo_medio_var33_hace3</th>\n",
              "      <th>saldo_medio_var33_ult1</th>\n",
              "      <th>saldo_medio_var33_ult3</th>\n",
              "      <th>saldo_medio_var44_hace2</th>\n",
              "      <th>saldo_medio_var44_hace3</th>\n",
              "      <th>saldo_medio_var44_ult1</th>\n",
              "      <th>saldo_medio_var44_ult3</th>\n",
              "      <th>var38</th>\n",
              "      <th>TARGET</th>\n",
              "    </tr>\n",
              "  </thead>\n",
              "  <tbody>\n",
              "    <tr>\n",
              "      <th>0</th>\n",
              "      <td>1</td>\n",
              "      <td>2</td>\n",
              "      <td>23</td>\n",
              "      <td>0.0</td>\n",
              "      <td>0.0</td>\n",
              "      <td>0.0</td>\n",
              "      <td>0.0</td>\n",
              "      <td>0.0</td>\n",
              "      <td>0.0</td>\n",
              "      <td>0.0</td>\n",
              "      <td>...</td>\n",
              "      <td>0.0</td>\n",
              "      <td>0.0</td>\n",
              "      <td>0.0</td>\n",
              "      <td>0.0</td>\n",
              "      <td>0.0</td>\n",
              "      <td>0.0</td>\n",
              "      <td>0.0</td>\n",
              "      <td>0.0</td>\n",
              "      <td>39205.17</td>\n",
              "      <td>0</td>\n",
              "    </tr>\n",
              "    <tr>\n",
              "      <th>1</th>\n",
              "      <td>3</td>\n",
              "      <td>2</td>\n",
              "      <td>34</td>\n",
              "      <td>0.0</td>\n",
              "      <td>0.0</td>\n",
              "      <td>0.0</td>\n",
              "      <td>0.0</td>\n",
              "      <td>0.0</td>\n",
              "      <td>0.0</td>\n",
              "      <td>0.0</td>\n",
              "      <td>...</td>\n",
              "      <td>0.0</td>\n",
              "      <td>0.0</td>\n",
              "      <td>0.0</td>\n",
              "      <td>0.0</td>\n",
              "      <td>0.0</td>\n",
              "      <td>0.0</td>\n",
              "      <td>0.0</td>\n",
              "      <td>0.0</td>\n",
              "      <td>49278.03</td>\n",
              "      <td>0</td>\n",
              "    </tr>\n",
              "    <tr>\n",
              "      <th>2</th>\n",
              "      <td>4</td>\n",
              "      <td>2</td>\n",
              "      <td>23</td>\n",
              "      <td>0.0</td>\n",
              "      <td>0.0</td>\n",
              "      <td>0.0</td>\n",
              "      <td>0.0</td>\n",
              "      <td>0.0</td>\n",
              "      <td>0.0</td>\n",
              "      <td>0.0</td>\n",
              "      <td>...</td>\n",
              "      <td>0.0</td>\n",
              "      <td>0.0</td>\n",
              "      <td>0.0</td>\n",
              "      <td>0.0</td>\n",
              "      <td>0.0</td>\n",
              "      <td>0.0</td>\n",
              "      <td>0.0</td>\n",
              "      <td>0.0</td>\n",
              "      <td>67333.77</td>\n",
              "      <td>0</td>\n",
              "    </tr>\n",
              "  </tbody>\n",
              "</table>\n",
              "<p>3 rows × 371 columns</p>\n",
              "</div>\n",
              "    <div class=\"colab-df-buttons\">\n",
              "\n",
              "  <div class=\"colab-df-container\">\n",
              "    <button class=\"colab-df-convert\" onclick=\"convertToInteractive('df-8fc5c73a-6e35-40c1-a9f5-c492ddca19f1')\"\n",
              "            title=\"Convert this dataframe to an interactive table.\"\n",
              "            style=\"display:none;\">\n",
              "\n",
              "  <svg xmlns=\"http://www.w3.org/2000/svg\" height=\"24px\" viewBox=\"0 -960 960 960\">\n",
              "    <path d=\"M120-120v-720h720v720H120Zm60-500h600v-160H180v160Zm220 220h160v-160H400v160Zm0 220h160v-160H400v160ZM180-400h160v-160H180v160Zm440 0h160v-160H620v160ZM180-180h160v-160H180v160Zm440 0h160v-160H620v160Z\"/>\n",
              "  </svg>\n",
              "    </button>\n",
              "\n",
              "  <style>\n",
              "    .colab-df-container {\n",
              "      display:flex;\n",
              "      gap: 12px;\n",
              "    }\n",
              "\n",
              "    .colab-df-convert {\n",
              "      background-color: #E8F0FE;\n",
              "      border: none;\n",
              "      border-radius: 50%;\n",
              "      cursor: pointer;\n",
              "      display: none;\n",
              "      fill: #1967D2;\n",
              "      height: 32px;\n",
              "      padding: 0 0 0 0;\n",
              "      width: 32px;\n",
              "    }\n",
              "\n",
              "    .colab-df-convert:hover {\n",
              "      background-color: #E2EBFA;\n",
              "      box-shadow: 0px 1px 2px rgba(60, 64, 67, 0.3), 0px 1px 3px 1px rgba(60, 64, 67, 0.15);\n",
              "      fill: #174EA6;\n",
              "    }\n",
              "\n",
              "    .colab-df-buttons div {\n",
              "      margin-bottom: 4px;\n",
              "    }\n",
              "\n",
              "    [theme=dark] .colab-df-convert {\n",
              "      background-color: #3B4455;\n",
              "      fill: #D2E3FC;\n",
              "    }\n",
              "\n",
              "    [theme=dark] .colab-df-convert:hover {\n",
              "      background-color: #434B5C;\n",
              "      box-shadow: 0px 1px 3px 1px rgba(0, 0, 0, 0.15);\n",
              "      filter: drop-shadow(0px 1px 2px rgba(0, 0, 0, 0.3));\n",
              "      fill: #FFFFFF;\n",
              "    }\n",
              "  </style>\n",
              "\n",
              "    <script>\n",
              "      const buttonEl =\n",
              "        document.querySelector('#df-8fc5c73a-6e35-40c1-a9f5-c492ddca19f1 button.colab-df-convert');\n",
              "      buttonEl.style.display =\n",
              "        google.colab.kernel.accessAllowed ? 'block' : 'none';\n",
              "\n",
              "      async function convertToInteractive(key) {\n",
              "        const element = document.querySelector('#df-8fc5c73a-6e35-40c1-a9f5-c492ddca19f1');\n",
              "        const dataTable =\n",
              "          await google.colab.kernel.invokeFunction('convertToInteractive',\n",
              "                                                    [key], {});\n",
              "        if (!dataTable) return;\n",
              "\n",
              "        const docLinkHtml = 'Like what you see? Visit the ' +\n",
              "          '<a target=\"_blank\" href=https://colab.research.google.com/notebooks/data_table.ipynb>data table notebook</a>'\n",
              "          + ' to learn more about interactive tables.';\n",
              "        element.innerHTML = '';\n",
              "        dataTable['output_type'] = 'display_data';\n",
              "        await google.colab.output.renderOutput(dataTable, element);\n",
              "        const docLink = document.createElement('div');\n",
              "        docLink.innerHTML = docLinkHtml;\n",
              "        element.appendChild(docLink);\n",
              "      }\n",
              "    </script>\n",
              "  </div>\n",
              "\n",
              "\n",
              "<div id=\"df-b6c5ebe4-819d-48d8-a77c-8c1ec168482c\">\n",
              "  <button class=\"colab-df-quickchart\" onclick=\"quickchart('df-b6c5ebe4-819d-48d8-a77c-8c1ec168482c')\"\n",
              "            title=\"Suggest charts\"\n",
              "            style=\"display:none;\">\n",
              "\n",
              "<svg xmlns=\"http://www.w3.org/2000/svg\" height=\"24px\"viewBox=\"0 0 24 24\"\n",
              "     width=\"24px\">\n",
              "    <g>\n",
              "        <path d=\"M19 3H5c-1.1 0-2 .9-2 2v14c0 1.1.9 2 2 2h14c1.1 0 2-.9 2-2V5c0-1.1-.9-2-2-2zM9 17H7v-7h2v7zm4 0h-2V7h2v10zm4 0h-2v-4h2v4z\"/>\n",
              "    </g>\n",
              "</svg>\n",
              "  </button>\n",
              "\n",
              "<style>\n",
              "  .colab-df-quickchart {\n",
              "      --bg-color: #E8F0FE;\n",
              "      --fill-color: #1967D2;\n",
              "      --hover-bg-color: #E2EBFA;\n",
              "      --hover-fill-color: #174EA6;\n",
              "      --disabled-fill-color: #AAA;\n",
              "      --disabled-bg-color: #DDD;\n",
              "  }\n",
              "\n",
              "  [theme=dark] .colab-df-quickchart {\n",
              "      --bg-color: #3B4455;\n",
              "      --fill-color: #D2E3FC;\n",
              "      --hover-bg-color: #434B5C;\n",
              "      --hover-fill-color: #FFFFFF;\n",
              "      --disabled-bg-color: #3B4455;\n",
              "      --disabled-fill-color: #666;\n",
              "  }\n",
              "\n",
              "  .colab-df-quickchart {\n",
              "    background-color: var(--bg-color);\n",
              "    border: none;\n",
              "    border-radius: 50%;\n",
              "    cursor: pointer;\n",
              "    display: none;\n",
              "    fill: var(--fill-color);\n",
              "    height: 32px;\n",
              "    padding: 0;\n",
              "    width: 32px;\n",
              "  }\n",
              "\n",
              "  .colab-df-quickchart:hover {\n",
              "    background-color: var(--hover-bg-color);\n",
              "    box-shadow: 0 1px 2px rgba(60, 64, 67, 0.3), 0 1px 3px 1px rgba(60, 64, 67, 0.15);\n",
              "    fill: var(--button-hover-fill-color);\n",
              "  }\n",
              "\n",
              "  .colab-df-quickchart-complete:disabled,\n",
              "  .colab-df-quickchart-complete:disabled:hover {\n",
              "    background-color: var(--disabled-bg-color);\n",
              "    fill: var(--disabled-fill-color);\n",
              "    box-shadow: none;\n",
              "  }\n",
              "\n",
              "  .colab-df-spinner {\n",
              "    border: 2px solid var(--fill-color);\n",
              "    border-color: transparent;\n",
              "    border-bottom-color: var(--fill-color);\n",
              "    animation:\n",
              "      spin 1s steps(1) infinite;\n",
              "  }\n",
              "\n",
              "  @keyframes spin {\n",
              "    0% {\n",
              "      border-color: transparent;\n",
              "      border-bottom-color: var(--fill-color);\n",
              "      border-left-color: var(--fill-color);\n",
              "    }\n",
              "    20% {\n",
              "      border-color: transparent;\n",
              "      border-left-color: var(--fill-color);\n",
              "      border-top-color: var(--fill-color);\n",
              "    }\n",
              "    30% {\n",
              "      border-color: transparent;\n",
              "      border-left-color: var(--fill-color);\n",
              "      border-top-color: var(--fill-color);\n",
              "      border-right-color: var(--fill-color);\n",
              "    }\n",
              "    40% {\n",
              "      border-color: transparent;\n",
              "      border-right-color: var(--fill-color);\n",
              "      border-top-color: var(--fill-color);\n",
              "    }\n",
              "    60% {\n",
              "      border-color: transparent;\n",
              "      border-right-color: var(--fill-color);\n",
              "    }\n",
              "    80% {\n",
              "      border-color: transparent;\n",
              "      border-right-color: var(--fill-color);\n",
              "      border-bottom-color: var(--fill-color);\n",
              "    }\n",
              "    90% {\n",
              "      border-color: transparent;\n",
              "      border-bottom-color: var(--fill-color);\n",
              "    }\n",
              "  }\n",
              "</style>\n",
              "\n",
              "  <script>\n",
              "    async function quickchart(key) {\n",
              "      const quickchartButtonEl =\n",
              "        document.querySelector('#' + key + ' button');\n",
              "      quickchartButtonEl.disabled = true;  // To prevent multiple clicks.\n",
              "      quickchartButtonEl.classList.add('colab-df-spinner');\n",
              "      try {\n",
              "        const charts = await google.colab.kernel.invokeFunction(\n",
              "            'suggestCharts', [key], {});\n",
              "      } catch (error) {\n",
              "        console.error('Error during call to suggestCharts:', error);\n",
              "      }\n",
              "      quickchartButtonEl.classList.remove('colab-df-spinner');\n",
              "      quickchartButtonEl.classList.add('colab-df-quickchart-complete');\n",
              "    }\n",
              "    (() => {\n",
              "      let quickchartButtonEl =\n",
              "        document.querySelector('#df-b6c5ebe4-819d-48d8-a77c-8c1ec168482c button');\n",
              "      quickchartButtonEl.style.display =\n",
              "        google.colab.kernel.accessAllowed ? 'block' : 'none';\n",
              "    })();\n",
              "  </script>\n",
              "</div>\n",
              "\n",
              "    </div>\n",
              "  </div>\n"
            ],
            "application/vnd.google.colaboratory.intrinsic+json": {
              "type": "dataframe",
              "variable_name": "cust_df"
            }
          },
          "metadata": {},
          "execution_count": 8
        }
      ],
      "source": [
        "import numpy as np\n",
        "import pandas as pd\n",
        "import matplotlib.pyplot as plt\n",
        "import matplotlib\n",
        "import warnings\n",
        "warnings.filterwarnings('ignore')\n",
        "\n",
        "cust_df = pd.read_csv(\"./santander.csv\", encoding='latin-1')\n",
        "print('dataset shape:', cust_df.shape)\n",
        "cust_df.head(3)"
      ]
    },
    {
      "cell_type": "code",
      "source": [
        "from google.colab import drive\n",
        "drive.mount('/content/drive')"
      ],
      "metadata": {
        "colab": {
          "base_uri": "https://localhost:8080/"
        },
        "collapsed": true,
        "id": "StiCsTpQ13gA",
        "outputId": "3d4821d9-9141-4801-ecd8-fa8a7e7def1f"
      },
      "execution_count": 3,
      "outputs": [
        {
          "output_type": "stream",
          "name": "stdout",
          "text": [
            "Mounted at /content/drive\n"
          ]
        }
      ]
    },
    {
      "cell_type": "markdown",
      "metadata": {
        "id": "MuYmWMcwz3jx"
      },
      "source": [
        "산탄데르 은행 고객 만족도조사 결과\n",
        "피처 - 익명화, 컬럼명 익명화, 수치, 0인 데이터가 대다수 - 희소성\n",
        "타겟 - TARGET"
      ]
    },
    {
      "cell_type": "markdown",
      "metadata": {
        "id": "T_TUNBmgz3jx"
      },
      "source": [
        "# 데이터 탐색"
      ]
    },
    {
      "cell_type": "code",
      "execution_count": null,
      "metadata": {
        "id": "j_Aet1SSz3jx",
        "outputId": "2bb020a0-c07d-4ddb-a1f3-fc909975de7b"
      },
      "outputs": [
        {
          "name": "stdout",
          "output_type": "stream",
          "text": [
            "<class 'pandas.core.frame.DataFrame'>\n",
            "RangeIndex: 76020 entries, 0 to 76019\n",
            "Columns: 371 entries, ID to TARGET\n",
            "dtypes: float64(111), int64(260)\n",
            "memory usage: 215.2 MB\n"
          ]
        }
      ],
      "source": [
        "cust_df.info()"
      ]
    },
    {
      "cell_type": "markdown",
      "metadata": {
        "id": "m8DXI-Lkz3jy"
      },
      "source": [
        "100명중 4명이 불만족하는 데이터"
      ]
    },
    {
      "cell_type": "code",
      "execution_count": 4,
      "metadata": {
        "colab": {
          "base_uri": "https://localhost:8080/"
        },
        "id": "-32xhnkPz3jy",
        "outputId": "7852f4fe-65d9-4aed-81d1-b36002966e0e"
      },
      "outputs": [
        {
          "output_type": "stream",
          "name": "stdout",
          "text": [
            "불만족 비율은 : 0.04\n"
          ]
        }
      ],
      "source": [
        "cust_df['TARGET'].value_counts() #0 만족, 1 불만족\n",
        "unsatisfied_cnt = cust_df[cust_df['TARGET']==1].TARGET.count()\n",
        "total_cnt = cust_df.TARGET.count()\n",
        "\n",
        "print(f'불만족 비율은 : {unsatisfied_cnt/total_cnt:.2f}')"
      ]
    },
    {
      "cell_type": "markdown",
      "metadata": {
        "id": "4Oy8v-Tvz3jy"
      },
      "source": [
        "최소값, Q1, Q2, Q3 가 0인 피처가 많다.\n",
        "최소값 -999999.000000 인 피처 var3 > Nan > 중위값/최빈값 2로 대체"
      ]
    },
    {
      "cell_type": "code",
      "execution_count": null,
      "metadata": {
        "id": "ZeUJYNGAz3jy",
        "outputId": "04c9a50e-9148-40d1-9b07-62328206daab"
      },
      "outputs": [
        {
          "data": {
            "text/html": [
              "<div>\n",
              "<style scoped>\n",
              "    .dataframe tbody tr th:only-of-type {\n",
              "        vertical-align: middle;\n",
              "    }\n",
              "\n",
              "    .dataframe tbody tr th {\n",
              "        vertical-align: top;\n",
              "    }\n",
              "\n",
              "    .dataframe thead th {\n",
              "        text-align: right;\n",
              "    }\n",
              "</style>\n",
              "<table border=\"1\" class=\"dataframe\">\n",
              "  <thead>\n",
              "    <tr style=\"text-align: right;\">\n",
              "      <th></th>\n",
              "      <th>ID</th>\n",
              "      <th>var3</th>\n",
              "      <th>var15</th>\n",
              "      <th>imp_ent_var16_ult1</th>\n",
              "      <th>imp_op_var39_comer_ult1</th>\n",
              "      <th>imp_op_var39_comer_ult3</th>\n",
              "      <th>imp_op_var40_comer_ult1</th>\n",
              "      <th>imp_op_var40_comer_ult3</th>\n",
              "      <th>imp_op_var40_efect_ult1</th>\n",
              "      <th>imp_op_var40_efect_ult3</th>\n",
              "      <th>...</th>\n",
              "      <th>saldo_medio_var33_hace2</th>\n",
              "      <th>saldo_medio_var33_hace3</th>\n",
              "      <th>saldo_medio_var33_ult1</th>\n",
              "      <th>saldo_medio_var33_ult3</th>\n",
              "      <th>saldo_medio_var44_hace2</th>\n",
              "      <th>saldo_medio_var44_hace3</th>\n",
              "      <th>saldo_medio_var44_ult1</th>\n",
              "      <th>saldo_medio_var44_ult3</th>\n",
              "      <th>var38</th>\n",
              "      <th>TARGET</th>\n",
              "    </tr>\n",
              "  </thead>\n",
              "  <tbody>\n",
              "    <tr>\n",
              "      <th>count</th>\n",
              "      <td>76020.000000</td>\n",
              "      <td>76020.000000</td>\n",
              "      <td>76020.000000</td>\n",
              "      <td>76020.000000</td>\n",
              "      <td>76020.000000</td>\n",
              "      <td>76020.000000</td>\n",
              "      <td>76020.000000</td>\n",
              "      <td>76020.000000</td>\n",
              "      <td>76020.000000</td>\n",
              "      <td>76020.000000</td>\n",
              "      <td>...</td>\n",
              "      <td>76020.000000</td>\n",
              "      <td>76020.000000</td>\n",
              "      <td>76020.000000</td>\n",
              "      <td>76020.000000</td>\n",
              "      <td>76020.000000</td>\n",
              "      <td>76020.000000</td>\n",
              "      <td>76020.000000</td>\n",
              "      <td>76020.000000</td>\n",
              "      <td>7.602000e+04</td>\n",
              "      <td>76020.000000</td>\n",
              "    </tr>\n",
              "    <tr>\n",
              "      <th>mean</th>\n",
              "      <td>75964.050723</td>\n",
              "      <td>-1523.199277</td>\n",
              "      <td>33.212865</td>\n",
              "      <td>86.208265</td>\n",
              "      <td>72.363067</td>\n",
              "      <td>119.529632</td>\n",
              "      <td>3.559130</td>\n",
              "      <td>6.472698</td>\n",
              "      <td>0.412946</td>\n",
              "      <td>0.567352</td>\n",
              "      <td>...</td>\n",
              "      <td>7.935824</td>\n",
              "      <td>1.365146</td>\n",
              "      <td>12.215580</td>\n",
              "      <td>8.784074</td>\n",
              "      <td>31.505324</td>\n",
              "      <td>1.858575</td>\n",
              "      <td>76.026165</td>\n",
              "      <td>56.614351</td>\n",
              "      <td>1.172358e+05</td>\n",
              "      <td>0.039569</td>\n",
              "    </tr>\n",
              "    <tr>\n",
              "      <th>std</th>\n",
              "      <td>43781.947379</td>\n",
              "      <td>39033.462364</td>\n",
              "      <td>12.956486</td>\n",
              "      <td>1614.757313</td>\n",
              "      <td>339.315831</td>\n",
              "      <td>546.266294</td>\n",
              "      <td>93.155749</td>\n",
              "      <td>153.737066</td>\n",
              "      <td>30.604864</td>\n",
              "      <td>36.513513</td>\n",
              "      <td>...</td>\n",
              "      <td>455.887218</td>\n",
              "      <td>113.959637</td>\n",
              "      <td>783.207399</td>\n",
              "      <td>538.439211</td>\n",
              "      <td>2013.125393</td>\n",
              "      <td>147.786584</td>\n",
              "      <td>4040.337842</td>\n",
              "      <td>2852.579397</td>\n",
              "      <td>1.826646e+05</td>\n",
              "      <td>0.194945</td>\n",
              "    </tr>\n",
              "    <tr>\n",
              "      <th>min</th>\n",
              "      <td>1.000000</td>\n",
              "      <td>-999999.000000</td>\n",
              "      <td>5.000000</td>\n",
              "      <td>0.000000</td>\n",
              "      <td>0.000000</td>\n",
              "      <td>0.000000</td>\n",
              "      <td>0.000000</td>\n",
              "      <td>0.000000</td>\n",
              "      <td>0.000000</td>\n",
              "      <td>0.000000</td>\n",
              "      <td>...</td>\n",
              "      <td>0.000000</td>\n",
              "      <td>0.000000</td>\n",
              "      <td>0.000000</td>\n",
              "      <td>0.000000</td>\n",
              "      <td>0.000000</td>\n",
              "      <td>0.000000</td>\n",
              "      <td>0.000000</td>\n",
              "      <td>0.000000</td>\n",
              "      <td>5.163750e+03</td>\n",
              "      <td>0.000000</td>\n",
              "    </tr>\n",
              "    <tr>\n",
              "      <th>25%</th>\n",
              "      <td>38104.750000</td>\n",
              "      <td>2.000000</td>\n",
              "      <td>23.000000</td>\n",
              "      <td>0.000000</td>\n",
              "      <td>0.000000</td>\n",
              "      <td>0.000000</td>\n",
              "      <td>0.000000</td>\n",
              "      <td>0.000000</td>\n",
              "      <td>0.000000</td>\n",
              "      <td>0.000000</td>\n",
              "      <td>...</td>\n",
              "      <td>0.000000</td>\n",
              "      <td>0.000000</td>\n",
              "      <td>0.000000</td>\n",
              "      <td>0.000000</td>\n",
              "      <td>0.000000</td>\n",
              "      <td>0.000000</td>\n",
              "      <td>0.000000</td>\n",
              "      <td>0.000000</td>\n",
              "      <td>6.787061e+04</td>\n",
              "      <td>0.000000</td>\n",
              "    </tr>\n",
              "    <tr>\n",
              "      <th>50%</th>\n",
              "      <td>76043.000000</td>\n",
              "      <td>2.000000</td>\n",
              "      <td>28.000000</td>\n",
              "      <td>0.000000</td>\n",
              "      <td>0.000000</td>\n",
              "      <td>0.000000</td>\n",
              "      <td>0.000000</td>\n",
              "      <td>0.000000</td>\n",
              "      <td>0.000000</td>\n",
              "      <td>0.000000</td>\n",
              "      <td>...</td>\n",
              "      <td>0.000000</td>\n",
              "      <td>0.000000</td>\n",
              "      <td>0.000000</td>\n",
              "      <td>0.000000</td>\n",
              "      <td>0.000000</td>\n",
              "      <td>0.000000</td>\n",
              "      <td>0.000000</td>\n",
              "      <td>0.000000</td>\n",
              "      <td>1.064092e+05</td>\n",
              "      <td>0.000000</td>\n",
              "    </tr>\n",
              "    <tr>\n",
              "      <th>75%</th>\n",
              "      <td>113748.750000</td>\n",
              "      <td>2.000000</td>\n",
              "      <td>40.000000</td>\n",
              "      <td>0.000000</td>\n",
              "      <td>0.000000</td>\n",
              "      <td>0.000000</td>\n",
              "      <td>0.000000</td>\n",
              "      <td>0.000000</td>\n",
              "      <td>0.000000</td>\n",
              "      <td>0.000000</td>\n",
              "      <td>...</td>\n",
              "      <td>0.000000</td>\n",
              "      <td>0.000000</td>\n",
              "      <td>0.000000</td>\n",
              "      <td>0.000000</td>\n",
              "      <td>0.000000</td>\n",
              "      <td>0.000000</td>\n",
              "      <td>0.000000</td>\n",
              "      <td>0.000000</td>\n",
              "      <td>1.187563e+05</td>\n",
              "      <td>0.000000</td>\n",
              "    </tr>\n",
              "    <tr>\n",
              "      <th>max</th>\n",
              "      <td>151838.000000</td>\n",
              "      <td>238.000000</td>\n",
              "      <td>105.000000</td>\n",
              "      <td>210000.000000</td>\n",
              "      <td>12888.030000</td>\n",
              "      <td>21024.810000</td>\n",
              "      <td>8237.820000</td>\n",
              "      <td>11073.570000</td>\n",
              "      <td>6600.000000</td>\n",
              "      <td>6600.000000</td>\n",
              "      <td>...</td>\n",
              "      <td>50003.880000</td>\n",
              "      <td>20385.720000</td>\n",
              "      <td>138831.630000</td>\n",
              "      <td>91778.730000</td>\n",
              "      <td>438329.220000</td>\n",
              "      <td>24650.010000</td>\n",
              "      <td>681462.900000</td>\n",
              "      <td>397884.300000</td>\n",
              "      <td>2.203474e+07</td>\n",
              "      <td>1.000000</td>\n",
              "    </tr>\n",
              "  </tbody>\n",
              "</table>\n",
              "<p>8 rows × 371 columns</p>\n",
              "</div>"
            ],
            "text/plain": [
              "                  ID           var3         var15  imp_ent_var16_ult1  \\\n",
              "count   76020.000000   76020.000000  76020.000000        76020.000000   \n",
              "mean    75964.050723   -1523.199277     33.212865           86.208265   \n",
              "std     43781.947379   39033.462364     12.956486         1614.757313   \n",
              "min         1.000000 -999999.000000      5.000000            0.000000   \n",
              "25%     38104.750000       2.000000     23.000000            0.000000   \n",
              "50%     76043.000000       2.000000     28.000000            0.000000   \n",
              "75%    113748.750000       2.000000     40.000000            0.000000   \n",
              "max    151838.000000     238.000000    105.000000       210000.000000   \n",
              "\n",
              "       imp_op_var39_comer_ult1  imp_op_var39_comer_ult3  \\\n",
              "count             76020.000000             76020.000000   \n",
              "mean                 72.363067               119.529632   \n",
              "std                 339.315831               546.266294   \n",
              "min                   0.000000                 0.000000   \n",
              "25%                   0.000000                 0.000000   \n",
              "50%                   0.000000                 0.000000   \n",
              "75%                   0.000000                 0.000000   \n",
              "max               12888.030000             21024.810000   \n",
              "\n",
              "       imp_op_var40_comer_ult1  imp_op_var40_comer_ult3  \\\n",
              "count             76020.000000             76020.000000   \n",
              "mean                  3.559130                 6.472698   \n",
              "std                  93.155749               153.737066   \n",
              "min                   0.000000                 0.000000   \n",
              "25%                   0.000000                 0.000000   \n",
              "50%                   0.000000                 0.000000   \n",
              "75%                   0.000000                 0.000000   \n",
              "max                8237.820000             11073.570000   \n",
              "\n",
              "       imp_op_var40_efect_ult1  imp_op_var40_efect_ult3  ...  \\\n",
              "count             76020.000000             76020.000000  ...   \n",
              "mean                  0.412946                 0.567352  ...   \n",
              "std                  30.604864                36.513513  ...   \n",
              "min                   0.000000                 0.000000  ...   \n",
              "25%                   0.000000                 0.000000  ...   \n",
              "50%                   0.000000                 0.000000  ...   \n",
              "75%                   0.000000                 0.000000  ...   \n",
              "max                6600.000000              6600.000000  ...   \n",
              "\n",
              "       saldo_medio_var33_hace2  saldo_medio_var33_hace3  \\\n",
              "count             76020.000000             76020.000000   \n",
              "mean                  7.935824                 1.365146   \n",
              "std                 455.887218               113.959637   \n",
              "min                   0.000000                 0.000000   \n",
              "25%                   0.000000                 0.000000   \n",
              "50%                   0.000000                 0.000000   \n",
              "75%                   0.000000                 0.000000   \n",
              "max               50003.880000             20385.720000   \n",
              "\n",
              "       saldo_medio_var33_ult1  saldo_medio_var33_ult3  \\\n",
              "count            76020.000000            76020.000000   \n",
              "mean                12.215580                8.784074   \n",
              "std                783.207399              538.439211   \n",
              "min                  0.000000                0.000000   \n",
              "25%                  0.000000                0.000000   \n",
              "50%                  0.000000                0.000000   \n",
              "75%                  0.000000                0.000000   \n",
              "max             138831.630000            91778.730000   \n",
              "\n",
              "       saldo_medio_var44_hace2  saldo_medio_var44_hace3  \\\n",
              "count             76020.000000             76020.000000   \n",
              "mean                 31.505324                 1.858575   \n",
              "std                2013.125393               147.786584   \n",
              "min                   0.000000                 0.000000   \n",
              "25%                   0.000000                 0.000000   \n",
              "50%                   0.000000                 0.000000   \n",
              "75%                   0.000000                 0.000000   \n",
              "max              438329.220000             24650.010000   \n",
              "\n",
              "       saldo_medio_var44_ult1  saldo_medio_var44_ult3         var38  \\\n",
              "count            76020.000000            76020.000000  7.602000e+04   \n",
              "mean                76.026165               56.614351  1.172358e+05   \n",
              "std               4040.337842             2852.579397  1.826646e+05   \n",
              "min                  0.000000                0.000000  5.163750e+03   \n",
              "25%                  0.000000                0.000000  6.787061e+04   \n",
              "50%                  0.000000                0.000000  1.064092e+05   \n",
              "75%                  0.000000                0.000000  1.187563e+05   \n",
              "max             681462.900000           397884.300000  2.203474e+07   \n",
              "\n",
              "             TARGET  \n",
              "count  76020.000000  \n",
              "mean       0.039569  \n",
              "std        0.194945  \n",
              "min        0.000000  \n",
              "25%        0.000000  \n",
              "50%        0.000000  \n",
              "75%        0.000000  \n",
              "max        1.000000  \n",
              "\n",
              "[8 rows x 371 columns]"
            ]
          },
          "execution_count": 2,
          "metadata": {},
          "output_type": "execute_result"
        }
      ],
      "source": [
        "cust_df.describe()"
      ]
    },
    {
      "cell_type": "code",
      "execution_count": null,
      "metadata": {
        "id": "A0_fPJliz3jy",
        "outputId": "c96333b8-1f71-4f54-f77d-a2132525a5ec"
      },
      "outputs": [
        {
          "data": {
            "text/plain": [
              " 2         74165\n",
              " 8           138\n",
              "-999999      116\n",
              " 9           110\n",
              " 3           108\n",
              "           ...  \n",
              " 231           1\n",
              " 188           1\n",
              " 168           1\n",
              " 135           1\n",
              " 87            1\n",
              "Name: var3, Length: 208, dtype: int64"
            ]
          },
          "execution_count": 6,
          "metadata": {},
          "output_type": "execute_result"
        }
      ],
      "source": [
        "cust_df.var3.value_counts()"
      ]
    },
    {
      "cell_type": "markdown",
      "metadata": {
        "id": "WoE_Z7Csz3jy"
      },
      "source": [
        "## 피처 선택 - id 삭제, var3 은 최빈값 2로 대체"
      ]
    },
    {
      "cell_type": "code",
      "execution_count": 9,
      "metadata": {
        "colab": {
          "base_uri": "https://localhost:8080/",
          "height": 264
        },
        "id": "LooCoc4xz3jy",
        "outputId": "0e6caee5-c745-40c7-d62b-db9a6b96610f"
      },
      "outputs": [
        {
          "output_type": "execute_result",
          "data": {
            "text/plain": [
              "   var3  var15  imp_ent_var16_ult1  imp_op_var39_comer_ult1  \\\n",
              "0     2     23                 0.0                      0.0   \n",
              "1     2     34                 0.0                      0.0   \n",
              "2     2     23                 0.0                      0.0   \n",
              "3     2     37                 0.0                    195.0   \n",
              "4     2     39                 0.0                      0.0   \n",
              "\n",
              "   imp_op_var39_comer_ult3  imp_op_var40_comer_ult1  imp_op_var40_comer_ult3  \\\n",
              "0                      0.0                      0.0                      0.0   \n",
              "1                      0.0                      0.0                      0.0   \n",
              "2                      0.0                      0.0                      0.0   \n",
              "3                    195.0                      0.0                      0.0   \n",
              "4                      0.0                      0.0                      0.0   \n",
              "\n",
              "   imp_op_var40_efect_ult1  imp_op_var40_efect_ult3  imp_op_var40_ult1  ...  \\\n",
              "0                      0.0                      0.0                0.0  ...   \n",
              "1                      0.0                      0.0                0.0  ...   \n",
              "2                      0.0                      0.0                0.0  ...   \n",
              "3                      0.0                      0.0                0.0  ...   \n",
              "4                      0.0                      0.0                0.0  ...   \n",
              "\n",
              "   saldo_medio_var33_hace2  saldo_medio_var33_hace3  saldo_medio_var33_ult1  \\\n",
              "0                      0.0                      0.0                     0.0   \n",
              "1                      0.0                      0.0                     0.0   \n",
              "2                      0.0                      0.0                     0.0   \n",
              "3                      0.0                      0.0                     0.0   \n",
              "4                      0.0                      0.0                     0.0   \n",
              "\n",
              "   saldo_medio_var33_ult3  saldo_medio_var44_hace2  saldo_medio_var44_hace3  \\\n",
              "0                     0.0                      0.0                      0.0   \n",
              "1                     0.0                      0.0                      0.0   \n",
              "2                     0.0                      0.0                      0.0   \n",
              "3                     0.0                      0.0                      0.0   \n",
              "4                     0.0                      0.0                      0.0   \n",
              "\n",
              "   saldo_medio_var44_ult1  saldo_medio_var44_ult3          var38  TARGET  \n",
              "0                     0.0                     0.0   39205.170000       0  \n",
              "1                     0.0                     0.0   49278.030000       0  \n",
              "2                     0.0                     0.0   67333.770000       0  \n",
              "3                     0.0                     0.0   64007.970000       0  \n",
              "4                     0.0                     0.0  117310.979016       0  \n",
              "\n",
              "[5 rows x 370 columns]"
            ],
            "text/html": [
              "\n",
              "  <div id=\"df-44e4c7fd-21fe-4e40-bf85-de70e7531324\" class=\"colab-df-container\">\n",
              "    <div>\n",
              "<style scoped>\n",
              "    .dataframe tbody tr th:only-of-type {\n",
              "        vertical-align: middle;\n",
              "    }\n",
              "\n",
              "    .dataframe tbody tr th {\n",
              "        vertical-align: top;\n",
              "    }\n",
              "\n",
              "    .dataframe thead th {\n",
              "        text-align: right;\n",
              "    }\n",
              "</style>\n",
              "<table border=\"1\" class=\"dataframe\">\n",
              "  <thead>\n",
              "    <tr style=\"text-align: right;\">\n",
              "      <th></th>\n",
              "      <th>var3</th>\n",
              "      <th>var15</th>\n",
              "      <th>imp_ent_var16_ult1</th>\n",
              "      <th>imp_op_var39_comer_ult1</th>\n",
              "      <th>imp_op_var39_comer_ult3</th>\n",
              "      <th>imp_op_var40_comer_ult1</th>\n",
              "      <th>imp_op_var40_comer_ult3</th>\n",
              "      <th>imp_op_var40_efect_ult1</th>\n",
              "      <th>imp_op_var40_efect_ult3</th>\n",
              "      <th>imp_op_var40_ult1</th>\n",
              "      <th>...</th>\n",
              "      <th>saldo_medio_var33_hace2</th>\n",
              "      <th>saldo_medio_var33_hace3</th>\n",
              "      <th>saldo_medio_var33_ult1</th>\n",
              "      <th>saldo_medio_var33_ult3</th>\n",
              "      <th>saldo_medio_var44_hace2</th>\n",
              "      <th>saldo_medio_var44_hace3</th>\n",
              "      <th>saldo_medio_var44_ult1</th>\n",
              "      <th>saldo_medio_var44_ult3</th>\n",
              "      <th>var38</th>\n",
              "      <th>TARGET</th>\n",
              "    </tr>\n",
              "  </thead>\n",
              "  <tbody>\n",
              "    <tr>\n",
              "      <th>0</th>\n",
              "      <td>2</td>\n",
              "      <td>23</td>\n",
              "      <td>0.0</td>\n",
              "      <td>0.0</td>\n",
              "      <td>0.0</td>\n",
              "      <td>0.0</td>\n",
              "      <td>0.0</td>\n",
              "      <td>0.0</td>\n",
              "      <td>0.0</td>\n",
              "      <td>0.0</td>\n",
              "      <td>...</td>\n",
              "      <td>0.0</td>\n",
              "      <td>0.0</td>\n",
              "      <td>0.0</td>\n",
              "      <td>0.0</td>\n",
              "      <td>0.0</td>\n",
              "      <td>0.0</td>\n",
              "      <td>0.0</td>\n",
              "      <td>0.0</td>\n",
              "      <td>39205.170000</td>\n",
              "      <td>0</td>\n",
              "    </tr>\n",
              "    <tr>\n",
              "      <th>1</th>\n",
              "      <td>2</td>\n",
              "      <td>34</td>\n",
              "      <td>0.0</td>\n",
              "      <td>0.0</td>\n",
              "      <td>0.0</td>\n",
              "      <td>0.0</td>\n",
              "      <td>0.0</td>\n",
              "      <td>0.0</td>\n",
              "      <td>0.0</td>\n",
              "      <td>0.0</td>\n",
              "      <td>...</td>\n",
              "      <td>0.0</td>\n",
              "      <td>0.0</td>\n",
              "      <td>0.0</td>\n",
              "      <td>0.0</td>\n",
              "      <td>0.0</td>\n",
              "      <td>0.0</td>\n",
              "      <td>0.0</td>\n",
              "      <td>0.0</td>\n",
              "      <td>49278.030000</td>\n",
              "      <td>0</td>\n",
              "    </tr>\n",
              "    <tr>\n",
              "      <th>2</th>\n",
              "      <td>2</td>\n",
              "      <td>23</td>\n",
              "      <td>0.0</td>\n",
              "      <td>0.0</td>\n",
              "      <td>0.0</td>\n",
              "      <td>0.0</td>\n",
              "      <td>0.0</td>\n",
              "      <td>0.0</td>\n",
              "      <td>0.0</td>\n",
              "      <td>0.0</td>\n",
              "      <td>...</td>\n",
              "      <td>0.0</td>\n",
              "      <td>0.0</td>\n",
              "      <td>0.0</td>\n",
              "      <td>0.0</td>\n",
              "      <td>0.0</td>\n",
              "      <td>0.0</td>\n",
              "      <td>0.0</td>\n",
              "      <td>0.0</td>\n",
              "      <td>67333.770000</td>\n",
              "      <td>0</td>\n",
              "    </tr>\n",
              "    <tr>\n",
              "      <th>3</th>\n",
              "      <td>2</td>\n",
              "      <td>37</td>\n",
              "      <td>0.0</td>\n",
              "      <td>195.0</td>\n",
              "      <td>195.0</td>\n",
              "      <td>0.0</td>\n",
              "      <td>0.0</td>\n",
              "      <td>0.0</td>\n",
              "      <td>0.0</td>\n",
              "      <td>0.0</td>\n",
              "      <td>...</td>\n",
              "      <td>0.0</td>\n",
              "      <td>0.0</td>\n",
              "      <td>0.0</td>\n",
              "      <td>0.0</td>\n",
              "      <td>0.0</td>\n",
              "      <td>0.0</td>\n",
              "      <td>0.0</td>\n",
              "      <td>0.0</td>\n",
              "      <td>64007.970000</td>\n",
              "      <td>0</td>\n",
              "    </tr>\n",
              "    <tr>\n",
              "      <th>4</th>\n",
              "      <td>2</td>\n",
              "      <td>39</td>\n",
              "      <td>0.0</td>\n",
              "      <td>0.0</td>\n",
              "      <td>0.0</td>\n",
              "      <td>0.0</td>\n",
              "      <td>0.0</td>\n",
              "      <td>0.0</td>\n",
              "      <td>0.0</td>\n",
              "      <td>0.0</td>\n",
              "      <td>...</td>\n",
              "      <td>0.0</td>\n",
              "      <td>0.0</td>\n",
              "      <td>0.0</td>\n",
              "      <td>0.0</td>\n",
              "      <td>0.0</td>\n",
              "      <td>0.0</td>\n",
              "      <td>0.0</td>\n",
              "      <td>0.0</td>\n",
              "      <td>117310.979016</td>\n",
              "      <td>0</td>\n",
              "    </tr>\n",
              "  </tbody>\n",
              "</table>\n",
              "<p>5 rows × 370 columns</p>\n",
              "</div>\n",
              "    <div class=\"colab-df-buttons\">\n",
              "\n",
              "  <div class=\"colab-df-container\">\n",
              "    <button class=\"colab-df-convert\" onclick=\"convertToInteractive('df-44e4c7fd-21fe-4e40-bf85-de70e7531324')\"\n",
              "            title=\"Convert this dataframe to an interactive table.\"\n",
              "            style=\"display:none;\">\n",
              "\n",
              "  <svg xmlns=\"http://www.w3.org/2000/svg\" height=\"24px\" viewBox=\"0 -960 960 960\">\n",
              "    <path d=\"M120-120v-720h720v720H120Zm60-500h600v-160H180v160Zm220 220h160v-160H400v160Zm0 220h160v-160H400v160ZM180-400h160v-160H180v160Zm440 0h160v-160H620v160ZM180-180h160v-160H180v160Zm440 0h160v-160H620v160Z\"/>\n",
              "  </svg>\n",
              "    </button>\n",
              "\n",
              "  <style>\n",
              "    .colab-df-container {\n",
              "      display:flex;\n",
              "      gap: 12px;\n",
              "    }\n",
              "\n",
              "    .colab-df-convert {\n",
              "      background-color: #E8F0FE;\n",
              "      border: none;\n",
              "      border-radius: 50%;\n",
              "      cursor: pointer;\n",
              "      display: none;\n",
              "      fill: #1967D2;\n",
              "      height: 32px;\n",
              "      padding: 0 0 0 0;\n",
              "      width: 32px;\n",
              "    }\n",
              "\n",
              "    .colab-df-convert:hover {\n",
              "      background-color: #E2EBFA;\n",
              "      box-shadow: 0px 1px 2px rgba(60, 64, 67, 0.3), 0px 1px 3px 1px rgba(60, 64, 67, 0.15);\n",
              "      fill: #174EA6;\n",
              "    }\n",
              "\n",
              "    .colab-df-buttons div {\n",
              "      margin-bottom: 4px;\n",
              "    }\n",
              "\n",
              "    [theme=dark] .colab-df-convert {\n",
              "      background-color: #3B4455;\n",
              "      fill: #D2E3FC;\n",
              "    }\n",
              "\n",
              "    [theme=dark] .colab-df-convert:hover {\n",
              "      background-color: #434B5C;\n",
              "      box-shadow: 0px 1px 3px 1px rgba(0, 0, 0, 0.15);\n",
              "      filter: drop-shadow(0px 1px 2px rgba(0, 0, 0, 0.3));\n",
              "      fill: #FFFFFF;\n",
              "    }\n",
              "  </style>\n",
              "\n",
              "    <script>\n",
              "      const buttonEl =\n",
              "        document.querySelector('#df-44e4c7fd-21fe-4e40-bf85-de70e7531324 button.colab-df-convert');\n",
              "      buttonEl.style.display =\n",
              "        google.colab.kernel.accessAllowed ? 'block' : 'none';\n",
              "\n",
              "      async function convertToInteractive(key) {\n",
              "        const element = document.querySelector('#df-44e4c7fd-21fe-4e40-bf85-de70e7531324');\n",
              "        const dataTable =\n",
              "          await google.colab.kernel.invokeFunction('convertToInteractive',\n",
              "                                                    [key], {});\n",
              "        if (!dataTable) return;\n",
              "\n",
              "        const docLinkHtml = 'Like what you see? Visit the ' +\n",
              "          '<a target=\"_blank\" href=https://colab.research.google.com/notebooks/data_table.ipynb>data table notebook</a>'\n",
              "          + ' to learn more about interactive tables.';\n",
              "        element.innerHTML = '';\n",
              "        dataTable['output_type'] = 'display_data';\n",
              "        await google.colab.output.renderOutput(dataTable, element);\n",
              "        const docLink = document.createElement('div');\n",
              "        docLink.innerHTML = docLinkHtml;\n",
              "        element.appendChild(docLink);\n",
              "      }\n",
              "    </script>\n",
              "  </div>\n",
              "\n",
              "\n",
              "<div id=\"df-a3feeccd-3de3-48d4-81ff-b18d42c6df4d\">\n",
              "  <button class=\"colab-df-quickchart\" onclick=\"quickchart('df-a3feeccd-3de3-48d4-81ff-b18d42c6df4d')\"\n",
              "            title=\"Suggest charts\"\n",
              "            style=\"display:none;\">\n",
              "\n",
              "<svg xmlns=\"http://www.w3.org/2000/svg\" height=\"24px\"viewBox=\"0 0 24 24\"\n",
              "     width=\"24px\">\n",
              "    <g>\n",
              "        <path d=\"M19 3H5c-1.1 0-2 .9-2 2v14c0 1.1.9 2 2 2h14c1.1 0 2-.9 2-2V5c0-1.1-.9-2-2-2zM9 17H7v-7h2v7zm4 0h-2V7h2v10zm4 0h-2v-4h2v4z\"/>\n",
              "    </g>\n",
              "</svg>\n",
              "  </button>\n",
              "\n",
              "<style>\n",
              "  .colab-df-quickchart {\n",
              "      --bg-color: #E8F0FE;\n",
              "      --fill-color: #1967D2;\n",
              "      --hover-bg-color: #E2EBFA;\n",
              "      --hover-fill-color: #174EA6;\n",
              "      --disabled-fill-color: #AAA;\n",
              "      --disabled-bg-color: #DDD;\n",
              "  }\n",
              "\n",
              "  [theme=dark] .colab-df-quickchart {\n",
              "      --bg-color: #3B4455;\n",
              "      --fill-color: #D2E3FC;\n",
              "      --hover-bg-color: #434B5C;\n",
              "      --hover-fill-color: #FFFFFF;\n",
              "      --disabled-bg-color: #3B4455;\n",
              "      --disabled-fill-color: #666;\n",
              "  }\n",
              "\n",
              "  .colab-df-quickchart {\n",
              "    background-color: var(--bg-color);\n",
              "    border: none;\n",
              "    border-radius: 50%;\n",
              "    cursor: pointer;\n",
              "    display: none;\n",
              "    fill: var(--fill-color);\n",
              "    height: 32px;\n",
              "    padding: 0;\n",
              "    width: 32px;\n",
              "  }\n",
              "\n",
              "  .colab-df-quickchart:hover {\n",
              "    background-color: var(--hover-bg-color);\n",
              "    box-shadow: 0 1px 2px rgba(60, 64, 67, 0.3), 0 1px 3px 1px rgba(60, 64, 67, 0.15);\n",
              "    fill: var(--button-hover-fill-color);\n",
              "  }\n",
              "\n",
              "  .colab-df-quickchart-complete:disabled,\n",
              "  .colab-df-quickchart-complete:disabled:hover {\n",
              "    background-color: var(--disabled-bg-color);\n",
              "    fill: var(--disabled-fill-color);\n",
              "    box-shadow: none;\n",
              "  }\n",
              "\n",
              "  .colab-df-spinner {\n",
              "    border: 2px solid var(--fill-color);\n",
              "    border-color: transparent;\n",
              "    border-bottom-color: var(--fill-color);\n",
              "    animation:\n",
              "      spin 1s steps(1) infinite;\n",
              "  }\n",
              "\n",
              "  @keyframes spin {\n",
              "    0% {\n",
              "      border-color: transparent;\n",
              "      border-bottom-color: var(--fill-color);\n",
              "      border-left-color: var(--fill-color);\n",
              "    }\n",
              "    20% {\n",
              "      border-color: transparent;\n",
              "      border-left-color: var(--fill-color);\n",
              "      border-top-color: var(--fill-color);\n",
              "    }\n",
              "    30% {\n",
              "      border-color: transparent;\n",
              "      border-left-color: var(--fill-color);\n",
              "      border-top-color: var(--fill-color);\n",
              "      border-right-color: var(--fill-color);\n",
              "    }\n",
              "    40% {\n",
              "      border-color: transparent;\n",
              "      border-right-color: var(--fill-color);\n",
              "      border-top-color: var(--fill-color);\n",
              "    }\n",
              "    60% {\n",
              "      border-color: transparent;\n",
              "      border-right-color: var(--fill-color);\n",
              "    }\n",
              "    80% {\n",
              "      border-color: transparent;\n",
              "      border-right-color: var(--fill-color);\n",
              "      border-bottom-color: var(--fill-color);\n",
              "    }\n",
              "    90% {\n",
              "      border-color: transparent;\n",
              "      border-bottom-color: var(--fill-color);\n",
              "    }\n",
              "  }\n",
              "</style>\n",
              "\n",
              "  <script>\n",
              "    async function quickchart(key) {\n",
              "      const quickchartButtonEl =\n",
              "        document.querySelector('#' + key + ' button');\n",
              "      quickchartButtonEl.disabled = true;  // To prevent multiple clicks.\n",
              "      quickchartButtonEl.classList.add('colab-df-spinner');\n",
              "      try {\n",
              "        const charts = await google.colab.kernel.invokeFunction(\n",
              "            'suggestCharts', [key], {});\n",
              "      } catch (error) {\n",
              "        console.error('Error during call to suggestCharts:', error);\n",
              "      }\n",
              "      quickchartButtonEl.classList.remove('colab-df-spinner');\n",
              "      quickchartButtonEl.classList.add('colab-df-quickchart-complete');\n",
              "    }\n",
              "    (() => {\n",
              "      let quickchartButtonEl =\n",
              "        document.querySelector('#df-a3feeccd-3de3-48d4-81ff-b18d42c6df4d button');\n",
              "      quickchartButtonEl.style.display =\n",
              "        google.colab.kernel.accessAllowed ? 'block' : 'none';\n",
              "    })();\n",
              "  </script>\n",
              "</div>\n",
              "\n",
              "    </div>\n",
              "  </div>\n"
            ],
            "application/vnd.google.colaboratory.intrinsic+json": {
              "type": "dataframe",
              "variable_name": "cust_df"
            }
          },
          "metadata": {},
          "execution_count": 9
        }
      ],
      "source": [
        "cust_df.drop('ID', axis=1, inplace=True)\n",
        "cust_df['var3'].replace(-999999, 2, inplace=True)\n",
        "\n",
        "cust_df.head()"
      ]
    },
    {
      "cell_type": "markdown",
      "metadata": {
        "id": "lNXnw-Q4z3jz"
      },
      "source": [
        "## X, y 데이터 분할\n"
      ]
    },
    {
      "cell_type": "code",
      "execution_count": 10,
      "metadata": {
        "colab": {
          "base_uri": "https://localhost:8080/"
        },
        "id": "qj31y713z3jz",
        "outputId": "4a679936-d957-43ea-811f-12ababc3836a"
      },
      "outputs": [
        {
          "output_type": "execute_result",
          "data": {
            "text/plain": [
              "((76020, 369), (76020,))"
            ]
          },
          "metadata": {},
          "execution_count": 10
        }
      ],
      "source": [
        "X_features = cust_df.iloc[:, :-1]\n",
        "y_labels = cust_df.iloc[:, -1]\n",
        "X_features.shape, y_labels.shape"
      ]
    },
    {
      "cell_type": "markdown",
      "metadata": {
        "id": "fLI_8-9Gz3jz"
      },
      "source": [
        "## 훈련/테스트 분할"
      ]
    },
    {
      "cell_type": "code",
      "execution_count": 11,
      "metadata": {
        "id": "-JoBIAAMz3jz"
      },
      "outputs": [],
      "source": [
        "from sklearn.model_selection import train_test_split"
      ]
    },
    {
      "cell_type": "code",
      "execution_count": 12,
      "metadata": {
        "colab": {
          "base_uri": "https://localhost:8080/"
        },
        "id": "5VEPXgkqz3jz",
        "outputId": "70826c3e-2311-4342-d1eb-f3986d331da5"
      },
      "outputs": [
        {
          "output_type": "stream",
          "name": "stdout",
          "text": [
            "학습 데이터 shape : (60816, 369), 테스트 데이터 shape : (15204, 369)\n",
            "학습 데이터 값의 비율 : TARGET\n",
            "0    0.960964\n",
            "1    0.039036\n",
            "Name: count, dtype: float64\n",
            "테스트 데이터  값의 비율 : TARGET\n",
            "0    0.9583\n",
            "1    0.0417\n",
            "Name: count, dtype: float64\n"
          ]
        }
      ],
      "source": [
        "X_train, X_test, y_train, y_test = train_test_split(X_features, y_labels, test_size=0.2, random_state=0)\n",
        "#X_train.count()\n",
        "print(f'학습 데이터 shape : {X_train.shape}, 테스트 데이터 shape : {X_test.shape}')\n",
        "\n",
        "train_cnt = y_train.count()\n",
        "test_cnt = y_test.count()\n",
        "print(f'학습 데이터 값의 비율 : {y_train.value_counts()/train_cnt}')\n",
        "print(f'테스트 데이터  값의 비율 : {y_test.value_counts()/test_cnt}')"
      ]
    },
    {
      "cell_type": "markdown",
      "metadata": {
        "id": "DQhQlgLrz3jz"
      },
      "source": [
        "# DT 예측기"
      ]
    },
    {
      "cell_type": "markdown",
      "metadata": {
        "id": "kYMJSSa7z3jz"
      },
      "source": [
        "# RF 예측기"
      ]
    },
    {
      "cell_type": "code",
      "execution_count": null,
      "metadata": {
        "id": "SNh7RB7ez3jz"
      },
      "outputs": [],
      "source": []
    },
    {
      "cell_type": "markdown",
      "metadata": {
        "id": "Kwskp9ocz3jz"
      },
      "source": [
        "# XGBoost 예측기 p271"
      ]
    },
    {
      "cell_type": "markdown",
      "metadata": {
        "id": "O-py2gWOz3j0"
      },
      "source": [
        "## 훈련 데이터 > 훈련:검증 분할"
      ]
    },
    {
      "cell_type": "code",
      "execution_count": 13,
      "metadata": {
        "id": "3lE1_2bmz3j0"
      },
      "outputs": [],
      "source": [
        "X_tr, X_val, y_tr, y_val = train_test_split(X_train, y_train, test_size=0.3, random_state=0)"
      ]
    },
    {
      "cell_type": "markdown",
      "metadata": {
        "id": "KbWyXHFNz3j0"
      },
      "source": [
        "## XGBoost model"
      ]
    },
    {
      "cell_type": "code",
      "execution_count": 16,
      "metadata": {
        "colab": {
          "base_uri": "https://localhost:8080/"
        },
        "id": "2mgJmuKOz3j0",
        "outputId": "7dd29849-3ee2-4fd0-e248-1332062827ce"
      },
      "outputs": [
        {
          "output_type": "stream",
          "name": "stdout",
          "text": [
            "[0]\tvalidation_0-auc:0.83603\tvalidation_1-auc:0.80978\n",
            "[1]\tvalidation_0-auc:0.83783\tvalidation_1-auc:0.81126\n",
            "[2]\tvalidation_0-auc:0.83892\tvalidation_1-auc:0.81192\n",
            "[3]\tvalidation_0-auc:0.84090\tvalidation_1-auc:0.81349\n",
            "[4]\tvalidation_0-auc:0.84187\tvalidation_1-auc:0.81356\n",
            "[5]\tvalidation_0-auc:0.84355\tvalidation_1-auc:0.81422\n",
            "[6]\tvalidation_0-auc:0.84534\tvalidation_1-auc:0.81550\n",
            "[7]\tvalidation_0-auc:0.84658\tvalidation_1-auc:0.81623\n",
            "[8]\tvalidation_0-auc:0.84727\tvalidation_1-auc:0.81669\n",
            "[9]\tvalidation_0-auc:0.84794\tvalidation_1-auc:0.81668\n",
            "[10]\tvalidation_0-auc:0.84980\tvalidation_1-auc:0.81828\n",
            "[11]\tvalidation_0-auc:0.85105\tvalidation_1-auc:0.81965\n",
            "[12]\tvalidation_0-auc:0.85217\tvalidation_1-auc:0.81999\n",
            "[13]\tvalidation_0-auc:0.85301\tvalidation_1-auc:0.82049\n",
            "[14]\tvalidation_0-auc:0.85558\tvalidation_1-auc:0.82210\n",
            "[15]\tvalidation_0-auc:0.85662\tvalidation_1-auc:0.82288\n",
            "[16]\tvalidation_0-auc:0.85811\tvalidation_1-auc:0.82380\n",
            "[17]\tvalidation_0-auc:0.85864\tvalidation_1-auc:0.82365\n",
            "[18]\tvalidation_0-auc:0.85961\tvalidation_1-auc:0.82403\n",
            "[19]\tvalidation_0-auc:0.86068\tvalidation_1-auc:0.82511\n",
            "[20]\tvalidation_0-auc:0.86154\tvalidation_1-auc:0.82607\n",
            "[21]\tvalidation_0-auc:0.86216\tvalidation_1-auc:0.82672\n",
            "[22]\tvalidation_0-auc:0.86279\tvalidation_1-auc:0.82744\n",
            "[23]\tvalidation_0-auc:0.86336\tvalidation_1-auc:0.82820\n",
            "[24]\tvalidation_0-auc:0.86362\tvalidation_1-auc:0.82811\n",
            "[25]\tvalidation_0-auc:0.86400\tvalidation_1-auc:0.82848\n",
            "[26]\tvalidation_0-auc:0.86472\tvalidation_1-auc:0.82879\n",
            "[27]\tvalidation_0-auc:0.86532\tvalidation_1-auc:0.82927\n",
            "[28]\tvalidation_0-auc:0.86598\tvalidation_1-auc:0.82946\n",
            "[29]\tvalidation_0-auc:0.86666\tvalidation_1-auc:0.83019\n",
            "[30]\tvalidation_0-auc:0.86741\tvalidation_1-auc:0.83112\n",
            "[31]\tvalidation_0-auc:0.86805\tvalidation_1-auc:0.83138\n",
            "[32]\tvalidation_0-auc:0.86854\tvalidation_1-auc:0.83139\n",
            "[33]\tvalidation_0-auc:0.86912\tvalidation_1-auc:0.83163\n",
            "[34]\tvalidation_0-auc:0.86962\tvalidation_1-auc:0.83172\n",
            "[35]\tvalidation_0-auc:0.87017\tvalidation_1-auc:0.83175\n",
            "[36]\tvalidation_0-auc:0.87049\tvalidation_1-auc:0.83170\n",
            "[37]\tvalidation_0-auc:0.87123\tvalidation_1-auc:0.83140\n",
            "[38]\tvalidation_0-auc:0.87213\tvalidation_1-auc:0.83194\n",
            "[39]\tvalidation_0-auc:0.87246\tvalidation_1-auc:0.83175\n",
            "[40]\tvalidation_0-auc:0.87333\tvalidation_1-auc:0.83193\n",
            "[41]\tvalidation_0-auc:0.87420\tvalidation_1-auc:0.83173\n",
            "[42]\tvalidation_0-auc:0.87491\tvalidation_1-auc:0.83183\n",
            "[43]\tvalidation_0-auc:0.87562\tvalidation_1-auc:0.83177\n",
            "[44]\tvalidation_0-auc:0.87626\tvalidation_1-auc:0.83167\n",
            "[45]\tvalidation_0-auc:0.87685\tvalidation_1-auc:0.83159\n",
            "[46]\tvalidation_0-auc:0.87738\tvalidation_1-auc:0.83169\n",
            "[47]\tvalidation_0-auc:0.87786\tvalidation_1-auc:0.83171\n",
            "[48]\tvalidation_0-auc:0.87836\tvalidation_1-auc:0.83191\n",
            "[49]\tvalidation_0-auc:0.87884\tvalidation_1-auc:0.83202\n",
            "[50]\tvalidation_0-auc:0.87921\tvalidation_1-auc:0.83198\n",
            "[51]\tvalidation_0-auc:0.87959\tvalidation_1-auc:0.83205\n",
            "[52]\tvalidation_0-auc:0.88026\tvalidation_1-auc:0.83196\n",
            "[53]\tvalidation_0-auc:0.88058\tvalidation_1-auc:0.83214\n",
            "[54]\tvalidation_0-auc:0.88108\tvalidation_1-auc:0.83239\n",
            "[55]\tvalidation_0-auc:0.88148\tvalidation_1-auc:0.83224\n",
            "[56]\tvalidation_0-auc:0.88196\tvalidation_1-auc:0.83217\n",
            "[57]\tvalidation_0-auc:0.88231\tvalidation_1-auc:0.83215\n",
            "[58]\tvalidation_0-auc:0.88260\tvalidation_1-auc:0.83218\n",
            "[59]\tvalidation_0-auc:0.88312\tvalidation_1-auc:0.83217\n",
            "[60]\tvalidation_0-auc:0.88351\tvalidation_1-auc:0.83220\n",
            "[61]\tvalidation_0-auc:0.88431\tvalidation_1-auc:0.83262\n",
            "[62]\tvalidation_0-auc:0.88476\tvalidation_1-auc:0.83277\n",
            "[63]\tvalidation_0-auc:0.88522\tvalidation_1-auc:0.83285\n",
            "[64]\tvalidation_0-auc:0.88577\tvalidation_1-auc:0.83331\n",
            "[65]\tvalidation_0-auc:0.88609\tvalidation_1-auc:0.83328\n",
            "[66]\tvalidation_0-auc:0.88672\tvalidation_1-auc:0.83311\n",
            "[67]\tvalidation_0-auc:0.88710\tvalidation_1-auc:0.83324\n",
            "[68]\tvalidation_0-auc:0.88743\tvalidation_1-auc:0.83308\n",
            "[69]\tvalidation_0-auc:0.88786\tvalidation_1-auc:0.83300\n",
            "[70]\tvalidation_0-auc:0.88817\tvalidation_1-auc:0.83301\n",
            "[71]\tvalidation_0-auc:0.88847\tvalidation_1-auc:0.83318\n",
            "[72]\tvalidation_0-auc:0.88880\tvalidation_1-auc:0.83316\n",
            "[73]\tvalidation_0-auc:0.88899\tvalidation_1-auc:0.83318\n",
            "[74]\tvalidation_0-auc:0.88940\tvalidation_1-auc:0.83319\n",
            "[75]\tvalidation_0-auc:0.88959\tvalidation_1-auc:0.83319\n",
            "[76]\tvalidation_0-auc:0.88986\tvalidation_1-auc:0.83325\n",
            "[77]\tvalidation_0-auc:0.89028\tvalidation_1-auc:0.83326\n",
            "[78]\tvalidation_0-auc:0.89064\tvalidation_1-auc:0.83335\n",
            "[79]\tvalidation_0-auc:0.89094\tvalidation_1-auc:0.83354\n",
            "[80]\tvalidation_0-auc:0.89121\tvalidation_1-auc:0.83350\n",
            "[81]\tvalidation_0-auc:0.89143\tvalidation_1-auc:0.83346\n",
            "[82]\tvalidation_0-auc:0.89164\tvalidation_1-auc:0.83340\n",
            "[83]\tvalidation_0-auc:0.89184\tvalidation_1-auc:0.83348\n",
            "[84]\tvalidation_0-auc:0.89226\tvalidation_1-auc:0.83346\n",
            "[85]\tvalidation_0-auc:0.89254\tvalidation_1-auc:0.83351\n",
            "[86]\tvalidation_0-auc:0.89269\tvalidation_1-auc:0.83340\n",
            "[87]\tvalidation_0-auc:0.89287\tvalidation_1-auc:0.83327\n",
            "[88]\tvalidation_0-auc:0.89306\tvalidation_1-auc:0.83341\n",
            "[89]\tvalidation_0-auc:0.89342\tvalidation_1-auc:0.83344\n",
            "[90]\tvalidation_0-auc:0.89376\tvalidation_1-auc:0.83341\n",
            "[91]\tvalidation_0-auc:0.89394\tvalidation_1-auc:0.83343\n",
            "[92]\tvalidation_0-auc:0.89404\tvalidation_1-auc:0.83346\n",
            "[93]\tvalidation_0-auc:0.89441\tvalidation_1-auc:0.83345\n",
            "[94]\tvalidation_0-auc:0.89516\tvalidation_1-auc:0.83338\n",
            "[95]\tvalidation_0-auc:0.89541\tvalidation_1-auc:0.83343\n",
            "[96]\tvalidation_0-auc:0.89558\tvalidation_1-auc:0.83340\n",
            "[97]\tvalidation_0-auc:0.89599\tvalidation_1-auc:0.83343\n",
            "[98]\tvalidation_0-auc:0.89638\tvalidation_1-auc:0.83353\n",
            "[99]\tvalidation_0-auc:0.89662\tvalidation_1-auc:0.83360\n",
            "CPU times: user 30.7 s, sys: 142 ms, total: 30.8 s\n",
            "Wall time: 18.2 s\n"
          ]
        },
        {
          "output_type": "execute_result",
          "data": {
            "text/plain": [
              "0.8413222688684454"
            ]
          },
          "metadata": {},
          "execution_count": 16
        }
      ],
      "source": [
        "%%time\n",
        "\n",
        "from xgboost import XGBClassifier\n",
        "from sklearn.metrics import roc_auc_score\n",
        "\n",
        "xgb_clf = XGBClassifier(n_estimator=500, learning_rate=0.05, random_state=156, early_stopping_rounds=100, eval_metric='auc')\n",
        "xgb_clf.fit(X_tr, y_tr, eval_set=[(X_tr, y_tr), (X_val, y_val)] )\n",
        "#xgb_clf.fit(X_tr, y_tr, eval_metric='auc', eval_set=[(X_tr, y_tr), (X_val, y_val)])\n",
        "xgb_roc_score = roc_auc_score(y_test, xgb_clf.predict_proba(X_test)[:, 1])\n",
        "xgb_roc_score"
      ]
    },
    {
      "cell_type": "markdown",
      "metadata": {
        "id": "drwO-0_oz3j0"
      },
      "source": [
        "# 하이퍼오피트 파라미터 최적화"
      ]
    },
    {
      "cell_type": "markdown",
      "source": [
        "노트북을 열면 최신버전의 사이킷런이 설치되어 있어요.   \n",
        "하이퍼오피티, xgbm의 현재 설치버전과 의존성이 일치하는 사이킷런 버전이 1.3.0 이래요.\n",
        "\n",
        "사이킷런 버전을 다운시킵니다.\n",
        "!pip install scikit-learn==1.3.0\n",
        "\n",
        "실행후 코랩 노트북의 런타임 메뉴에서 세션 다시 시작을 선택합니다.\n",
        "그리고, 데이터 로드부터 다시 합니다.\n",
        "!pip install scikit-learn==1.3.0 는 실행하지 않습니다.\n",
        "\n",
        "버전 체크합니다.   \n",
        "('2.1.3', '0.2.7', '1.3.0')\n",
        "\n"
      ],
      "metadata": {
        "id": "o5sH2g_xCcBi"
      }
    },
    {
      "cell_type": "code",
      "source": [
        "!pip install scikit-learn==1.3.0"
      ],
      "metadata": {
        "colab": {
          "base_uri": "https://localhost:8080/",
          "height": 475
        },
        "id": "9fq1zd9O9oR-",
        "outputId": "d9798363-969a-4a2d-8b03-b635a337ddd9"
      },
      "execution_count": 35,
      "outputs": [
        {
          "output_type": "stream",
          "name": "stdout",
          "text": [
            "Collecting scikit-learn==1.3.0\n",
            "  Downloading scikit_learn-1.3.0-cp310-cp310-manylinux_2_17_x86_64.manylinux2014_x86_64.whl.metadata (11 kB)\n",
            "Requirement already satisfied: numpy>=1.17.3 in /usr/local/lib/python3.10/dist-packages (from scikit-learn==1.3.0) (1.26.4)\n",
            "Requirement already satisfied: scipy>=1.5.0 in /usr/local/lib/python3.10/dist-packages (from scikit-learn==1.3.0) (1.13.1)\n",
            "Requirement already satisfied: joblib>=1.1.1 in /usr/local/lib/python3.10/dist-packages (from scikit-learn==1.3.0) (1.4.2)\n",
            "Requirement already satisfied: threadpoolctl>=2.0.0 in /usr/local/lib/python3.10/dist-packages (from scikit-learn==1.3.0) (3.5.0)\n",
            "Downloading scikit_learn-1.3.0-cp310-cp310-manylinux_2_17_x86_64.manylinux2014_x86_64.whl (10.8 MB)\n",
            "\u001b[2K   \u001b[90m━━━━━━━━━━━━━━━━━━━━━━━━━━━━━━━━━━━━━━━━\u001b[0m \u001b[32m10.8/10.8 MB\u001b[0m \u001b[31m45.1 MB/s\u001b[0m eta \u001b[36m0:00:00\u001b[0m\n",
            "\u001b[?25hInstalling collected packages: scikit-learn\n",
            "  Attempting uninstall: scikit-learn\n",
            "    Found existing installation: scikit-learn 1.6.0\n",
            "    Uninstalling scikit-learn-1.6.0:\n",
            "      Successfully uninstalled scikit-learn-1.6.0\n",
            "\u001b[31mERROR: pip's dependency resolver does not currently take into account all the packages that are installed. This behaviour is the source of the following dependency conflicts.\n",
            "mlxtend 0.23.3 requires scikit-learn>=1.3.1, but you have scikit-learn 1.3.0 which is incompatible.\u001b[0m\u001b[31m\n",
            "\u001b[0mSuccessfully installed scikit-learn-1.3.0\n"
          ]
        },
        {
          "output_type": "display_data",
          "data": {
            "application/vnd.colab-display-data+json": {
              "pip_warning": {
                "packages": [
                  "sklearn"
                ]
              },
              "id": "80371221255e462fa2738a70715d30da"
            }
          },
          "metadata": {}
        }
      ]
    },
    {
      "cell_type": "code",
      "source": [
        "import xgboost\n",
        "import hyperopt\n",
        "import sklearn\n",
        "xgboost.__version__, hyperopt.__version__, sklearn.__version__"
      ],
      "metadata": {
        "colab": {
          "base_uri": "https://localhost:8080/"
        },
        "id": "qF_pd8ti6IJA",
        "outputId": "16ed19c0-8c69-4ef6-c40b-704453021fa8"
      },
      "execution_count": 14,
      "outputs": [
        {
          "output_type": "execute_result",
          "data": {
            "text/plain": [
              "('2.1.3', '0.2.7', '1.3.0')"
            ]
          },
          "metadata": {},
          "execution_count": 14
        }
      ]
    },
    {
      "cell_type": "code",
      "execution_count": 15,
      "metadata": {
        "id": "mBAUXD4fz3j0"
      },
      "outputs": [],
      "source": [
        "from hyperopt import fmin, tpe, Trials, STATUS_OK\n",
        "from sklearn.base import BaseEstimator, ClassifierMixin\n",
        "from xgboost import XGBClassifier\n",
        "from sklearn.model_selection import cross_val_score\n",
        "from hyperopt  import hp"
      ]
    },
    {
      "cell_type": "code",
      "source": [
        "# Sklearn 호환 XGBoost 클래스 정의\n",
        "class SklearnCompatibleXGBClassifier(XGBClassifier, BaseEstimator, ClassifierMixin):\n",
        "    def __sklearn_tags__(self):\n",
        "        return {\"non_deterministic\": True}"
      ],
      "metadata": {
        "id": "_zI9xEFu78nT"
      },
      "execution_count": 16,
      "outputs": []
    },
    {
      "cell_type": "code",
      "execution_count": 17,
      "metadata": {
        "id": "3YpotPkIz3j0"
      },
      "outputs": [],
      "source": [
        "from hyperopt.pyll.base import scope\n",
        "import numpy as np\n",
        "\n",
        "# 하이퍼파라미터 검색공간\n",
        "search_space = { 'n_estimators': scope.int(hp.quniform('n_estimators', 50, 300, 10)),\n",
        "                'max_depth': scope.int(hp.quniform('max_depth', 3, 10, 1)),\n",
        "                'learning_rate': hp.loguniform('learning_rate', np.log(0.01), np.log(0.3)),\n",
        "                'subsample':hp.uniform('subsample', 0.5, 1.0),\n",
        "                'colsample_bytree': hp.uniform('colsample_bytree', 0.5, 1.0),\n",
        "                }"
      ]
    },
    {
      "cell_type": "code",
      "execution_count": 18,
      "metadata": {
        "id": "pcOPd2b5z3j0"
      },
      "outputs": [],
      "source": [
        "from hyperopt import fmin, tpe, Trials, STATUS_OK\n",
        "from xgboost import XGBClassifier\n",
        "from sklearn.model_selection import cross_val_score\n",
        "\n",
        "\n",
        "def objective_func_xgb(params):\n",
        "\n",
        "    model = SklearnCompatibleXGBClassifier(\n",
        "        n_estimators=100, #params['n_estimators'],\n",
        "        max_depth=params['max_depth'],\n",
        "        learning_rate=params['learning_rate'],\n",
        "        #subsample=params['subsample'],\n",
        "        colsample_bytree=params['colsample_bytree'],\n",
        "        random_state=42,\n",
        "        eval_metric='logloss'\n",
        "    )\n",
        "    #k-fold 추가\n",
        "\n",
        "    score_mean = cross_val_score(model, X_train, y_train, cv=5, scoring='accuracy').mean()\n",
        "    return {'loss': -1*score_mean , 'status': STATUS_OK}"
      ]
    },
    {
      "cell_type": "code",
      "execution_count": 20,
      "metadata": {
        "colab": {
          "base_uri": "https://localhost:8080/"
        },
        "id": "qsLJAheiz3j0",
        "outputId": "7b5f911c-be72-497f-a86e-48f39c0e68ef"
      },
      "outputs": [
        {
          "output_type": "stream",
          "name": "stdout",
          "text": [
            "100%|██████████| 50/50 [30:06<00:00, 36.13s/trial, best loss: -0.9610628759849597]\n"
          ]
        }
      ],
      "source": [
        "trials = Trials()\n",
        "\n",
        "best_params = fmin(\n",
        "    fn=objective_func_xgb,\n",
        "    space=search_space,\n",
        "    algo=tpe.suggest,\n",
        "    max_evals=50,\n",
        "    trials=trials\n",
        ")"
      ]
    },
    {
      "cell_type": "code",
      "execution_count": 22,
      "metadata": {
        "colab": {
          "base_uri": "https://localhost:8080/"
        },
        "id": "eAMvH99Xz3j0",
        "outputId": "c54ca000-4390-4b23-83e1-f1c3cebe73e8"
      },
      "outputs": [
        {
          "output_type": "execute_result",
          "data": {
            "text/plain": [
              "{'colsample_bytree': 0.5132064441508775,\n",
              " 'learning_rate': 0.056778045073597835,\n",
              " 'max_depth': 8.0,\n",
              " 'n_estimators': 220.0,\n",
              " 'subsample': 0.6525052716600095}"
            ]
          },
          "metadata": {},
          "execution_count": 22
        }
      ],
      "source": [
        "best_params"
      ]
    },
    {
      "cell_type": "markdown",
      "source": [
        "{'colsample_bytree': 0.5325981930337212,\n",
        " 'learning_rate': 0.17220434779843125,\n",
        " 'max_depth': 4.0,\n",
        " 'n_estimators': 140.0,\n",
        " 'subsample': 0.7272220988660021}"
      ],
      "metadata": {
        "id": "H2G6aKdpGAaT"
      }
    },
    {
      "cell_type": "code",
      "execution_count": 37,
      "metadata": {
        "id": "0x2Iz3oUz3j1"
      },
      "outputs": [],
      "source": [
        "best_model = XGBClassifier(n_estimators = int(best_params['n_estimators']),\n",
        "                           max_depth = int(best_params['max_depth']),\n",
        "                           learning_rate=best_params['learning_rate'],\n",
        "                           subsample=best_params['subsample'] ,\n",
        "                           colsample_bytree=best_params['colsample_bytree'],\n",
        "                           random_state=42,\n",
        "                           eval_metric='logloss',\n",
        "                           tree_method='gpu_hist'\n",
        "                           )"
      ]
    },
    {
      "cell_type": "markdown",
      "metadata": {
        "id": "D7dwCEKEz3j1"
      },
      "source": [
        "X_tr, X_val, y_tr, y_val = train_test_split(X_train, y_train, test_size=0.3, random_state=0)"
      ]
    },
    {
      "cell_type": "code",
      "execution_count": null,
      "metadata": {
        "collapsed": true,
        "id": "Kd1dUtkuz3j1",
        "outputId": "11fb7b3a-1a28-43b9-e620-4a971088b2c3"
      },
      "outputs": [
        {
          "name": "stdout",
          "output_type": "stream",
          "text": [
            "[0]\tvalidation_0-auc:0.70170\tvalidation_1-auc:0.69274\n",
            "[1]\tvalidation_0-auc:0.74094\tvalidation_1-auc:0.72144\n",
            "[2]\tvalidation_0-auc:0.74818\tvalidation_1-auc:0.72418\n",
            "[3]\tvalidation_0-auc:0.75586\tvalidation_1-auc:0.73146\n",
            "[4]\tvalidation_0-auc:0.75838\tvalidation_1-auc:0.73315\n",
            "[5]\tvalidation_0-auc:0.75989\tvalidation_1-auc:0.73528\n",
            "[6]\tvalidation_0-auc:0.80785\tvalidation_1-auc:0.78655\n",
            "[7]\tvalidation_0-auc:0.80728\tvalidation_1-auc:0.78554\n",
            "[8]\tvalidation_0-auc:0.80845\tvalidation_1-auc:0.78652\n",
            "[9]\tvalidation_0-auc:0.81935\tvalidation_1-auc:0.79860\n",
            "[10]\tvalidation_0-auc:0.81766\tvalidation_1-auc:0.79676\n",
            "[11]\tvalidation_0-auc:0.82507\tvalidation_1-auc:0.80475\n",
            "[12]\tvalidation_0-auc:0.82458\tvalidation_1-auc:0.80261\n",
            "[13]\tvalidation_0-auc:0.83249\tvalidation_1-auc:0.81256\n",
            "[14]\tvalidation_0-auc:0.83041\tvalidation_1-auc:0.80931\n",
            "[15]\tvalidation_0-auc:0.82875\tvalidation_1-auc:0.80656\n",
            "[16]\tvalidation_0-auc:0.83599\tvalidation_1-auc:0.81468\n",
            "[17]\tvalidation_0-auc:0.83712\tvalidation_1-auc:0.81400\n",
            "[18]\tvalidation_0-auc:0.83670\tvalidation_1-auc:0.81394\n",
            "[19]\tvalidation_0-auc:0.83632\tvalidation_1-auc:0.81250\n",
            "[20]\tvalidation_0-auc:0.83683\tvalidation_1-auc:0.81118\n",
            "[21]\tvalidation_0-auc:0.84350\tvalidation_1-auc:0.81753\n",
            "[22]\tvalidation_0-auc:0.84452\tvalidation_1-auc:0.81796\n",
            "[23]\tvalidation_0-auc:0.84974\tvalidation_1-auc:0.82409\n",
            "[24]\tvalidation_0-auc:0.85372\tvalidation_1-auc:0.82775\n",
            "[25]\tvalidation_0-auc:0.85373\tvalidation_1-auc:0.82768\n",
            "[26]\tvalidation_0-auc:0.85623\tvalidation_1-auc:0.83010\n",
            "[27]\tvalidation_0-auc:0.85678\tvalidation_1-auc:0.82979\n",
            "[28]\tvalidation_0-auc:0.85707\tvalidation_1-auc:0.83007\n",
            "[29]\tvalidation_0-auc:0.85917\tvalidation_1-auc:0.83233\n",
            "[30]\tvalidation_0-auc:0.86080\tvalidation_1-auc:0.83307\n",
            "[31]\tvalidation_0-auc:0.86211\tvalidation_1-auc:0.83318\n",
            "[32]\tvalidation_0-auc:0.86260\tvalidation_1-auc:0.83358\n",
            "[33]\tvalidation_0-auc:0.86357\tvalidation_1-auc:0.83416\n",
            "[34]\tvalidation_0-auc:0.86415\tvalidation_1-auc:0.83467\n",
            "[35]\tvalidation_0-auc:0.86519\tvalidation_1-auc:0.83466\n",
            "[36]\tvalidation_0-auc:0.86547\tvalidation_1-auc:0.83516\n",
            "[37]\tvalidation_0-auc:0.86595\tvalidation_1-auc:0.83539\n",
            "[38]\tvalidation_0-auc:0.86623\tvalidation_1-auc:0.83544\n",
            "[39]\tvalidation_0-auc:0.86663\tvalidation_1-auc:0.83504\n",
            "[40]\tvalidation_0-auc:0.86754\tvalidation_1-auc:0.83527\n",
            "[41]\tvalidation_0-auc:0.86801\tvalidation_1-auc:0.83607\n",
            "[42]\tvalidation_0-auc:0.86853\tvalidation_1-auc:0.83601\n",
            "[43]\tvalidation_0-auc:0.86950\tvalidation_1-auc:0.83605\n",
            "[44]\tvalidation_0-auc:0.87015\tvalidation_1-auc:0.83645\n",
            "[45]\tvalidation_0-auc:0.87044\tvalidation_1-auc:0.83618\n",
            "[46]\tvalidation_0-auc:0.87081\tvalidation_1-auc:0.83629\n",
            "[47]\tvalidation_0-auc:0.87126\tvalidation_1-auc:0.83647\n",
            "[48]\tvalidation_0-auc:0.87205\tvalidation_1-auc:0.83644\n",
            "[49]\tvalidation_0-auc:0.87277\tvalidation_1-auc:0.83649\n",
            "[50]\tvalidation_0-auc:0.87371\tvalidation_1-auc:0.83609\n",
            "[51]\tvalidation_0-auc:0.87432\tvalidation_1-auc:0.83596\n",
            "[52]\tvalidation_0-auc:0.87524\tvalidation_1-auc:0.83596\n",
            "[53]\tvalidation_0-auc:0.87555\tvalidation_1-auc:0.83595\n",
            "[54]\tvalidation_0-auc:0.87588\tvalidation_1-auc:0.83634\n",
            "[55]\tvalidation_0-auc:0.87618\tvalidation_1-auc:0.83612\n",
            "[56]\tvalidation_0-auc:0.87681\tvalidation_1-auc:0.83592\n",
            "[57]\tvalidation_0-auc:0.87694\tvalidation_1-auc:0.83599\n",
            "[58]\tvalidation_0-auc:0.87736\tvalidation_1-auc:0.83590\n",
            "[59]\tvalidation_0-auc:0.87765\tvalidation_1-auc:0.83575\n",
            "[60]\tvalidation_0-auc:0.87815\tvalidation_1-auc:0.83570\n",
            "[61]\tvalidation_0-auc:0.87861\tvalidation_1-auc:0.83554\n",
            "[62]\tvalidation_0-auc:0.87907\tvalidation_1-auc:0.83517\n",
            "[63]\tvalidation_0-auc:0.87949\tvalidation_1-auc:0.83501\n",
            "[64]\tvalidation_0-auc:0.87975\tvalidation_1-auc:0.83496\n",
            "[65]\tvalidation_0-auc:0.87996\tvalidation_1-auc:0.83483\n",
            "[66]\tvalidation_0-auc:0.88063\tvalidation_1-auc:0.83445\n",
            "[67]\tvalidation_0-auc:0.88096\tvalidation_1-auc:0.83439\n",
            "[68]\tvalidation_0-auc:0.88116\tvalidation_1-auc:0.83454\n",
            "[69]\tvalidation_0-auc:0.88131\tvalidation_1-auc:0.83443\n",
            "[70]\tvalidation_0-auc:0.88177\tvalidation_1-auc:0.83451\n",
            "[71]\tvalidation_0-auc:0.88230\tvalidation_1-auc:0.83416\n",
            "[72]\tvalidation_0-auc:0.88240\tvalidation_1-auc:0.83411\n",
            "[73]\tvalidation_0-auc:0.88291\tvalidation_1-auc:0.83440\n",
            "[74]\tvalidation_0-auc:0.88358\tvalidation_1-auc:0.83411\n",
            "[75]\tvalidation_0-auc:0.88385\tvalidation_1-auc:0.83438\n",
            "[76]\tvalidation_0-auc:0.88391\tvalidation_1-auc:0.83444\n",
            "[77]\tvalidation_0-auc:0.88445\tvalidation_1-auc:0.83430\n",
            "[78]\tvalidation_0-auc:0.88494\tvalidation_1-auc:0.83450\n",
            "[79]\tvalidation_0-auc:0.88579\tvalidation_1-auc:0.83432\n",
            "[80]\tvalidation_0-auc:0.88588\tvalidation_1-auc:0.83433\n",
            "[81]\tvalidation_0-auc:0.88613\tvalidation_1-auc:0.83449\n",
            "[82]\tvalidation_0-auc:0.88674\tvalidation_1-auc:0.83413\n",
            "[83]\tvalidation_0-auc:0.88705\tvalidation_1-auc:0.83412\n",
            "[84]\tvalidation_0-auc:0.88758\tvalidation_1-auc:0.83462\n",
            "[85]\tvalidation_0-auc:0.88811\tvalidation_1-auc:0.83476\n",
            "[86]\tvalidation_0-auc:0.88869\tvalidation_1-auc:0.83477\n",
            "[87]\tvalidation_0-auc:0.88893\tvalidation_1-auc:0.83466\n",
            "[88]\tvalidation_0-auc:0.88933\tvalidation_1-auc:0.83473\n",
            "[89]\tvalidation_0-auc:0.88967\tvalidation_1-auc:0.83466\n",
            "[90]\tvalidation_0-auc:0.88997\tvalidation_1-auc:0.83454\n",
            "[91]\tvalidation_0-auc:0.89036\tvalidation_1-auc:0.83453\n",
            "[92]\tvalidation_0-auc:0.89047\tvalidation_1-auc:0.83450\n",
            "[93]\tvalidation_0-auc:0.89055\tvalidation_1-auc:0.83454\n",
            "[94]\tvalidation_0-auc:0.89093\tvalidation_1-auc:0.83498\n",
            "[95]\tvalidation_0-auc:0.89130\tvalidation_1-auc:0.83479\n",
            "[96]\tvalidation_0-auc:0.89145\tvalidation_1-auc:0.83467\n",
            "[97]\tvalidation_0-auc:0.89182\tvalidation_1-auc:0.83472\n",
            "[98]\tvalidation_0-auc:0.89206\tvalidation_1-auc:0.83450\n",
            "[99]\tvalidation_0-auc:0.89256\tvalidation_1-auc:0.83433\n",
            "[100]\tvalidation_0-auc:0.89280\tvalidation_1-auc:0.83457\n",
            "[101]\tvalidation_0-auc:0.89323\tvalidation_1-auc:0.83428\n",
            "[102]\tvalidation_0-auc:0.89395\tvalidation_1-auc:0.83423\n",
            "[103]\tvalidation_0-auc:0.89416\tvalidation_1-auc:0.83391\n",
            "[104]\tvalidation_0-auc:0.89448\tvalidation_1-auc:0.83380\n",
            "[105]\tvalidation_0-auc:0.89492\tvalidation_1-auc:0.83362\n",
            "[106]\tvalidation_0-auc:0.89533\tvalidation_1-auc:0.83343\n",
            "[107]\tvalidation_0-auc:0.89560\tvalidation_1-auc:0.83361\n",
            "[108]\tvalidation_0-auc:0.89562\tvalidation_1-auc:0.83370\n",
            "[109]\tvalidation_0-auc:0.89573\tvalidation_1-auc:0.83366\n",
            "[110]\tvalidation_0-auc:0.89592\tvalidation_1-auc:0.83370\n",
            "[111]\tvalidation_0-auc:0.89600\tvalidation_1-auc:0.83392\n",
            "[112]\tvalidation_0-auc:0.89616\tvalidation_1-auc:0.83390\n",
            "[113]\tvalidation_0-auc:0.89645\tvalidation_1-auc:0.83380\n",
            "[114]\tvalidation_0-auc:0.89692\tvalidation_1-auc:0.83390\n",
            "[115]\tvalidation_0-auc:0.89696\tvalidation_1-auc:0.83432\n",
            "[116]\tvalidation_0-auc:0.89759\tvalidation_1-auc:0.83412\n",
            "[117]\tvalidation_0-auc:0.89795\tvalidation_1-auc:0.83423\n",
            "[118]\tvalidation_0-auc:0.89847\tvalidation_1-auc:0.83400\n",
            "[119]\tvalidation_0-auc:0.89846\tvalidation_1-auc:0.83408\n",
            "[120]\tvalidation_0-auc:0.89895\tvalidation_1-auc:0.83411\n",
            "[121]\tvalidation_0-auc:0.89914\tvalidation_1-auc:0.83390\n",
            "[122]\tvalidation_0-auc:0.89943\tvalidation_1-auc:0.83394\n",
            "[123]\tvalidation_0-auc:0.89992\tvalidation_1-auc:0.83359\n",
            "[124]\tvalidation_0-auc:0.90002\tvalidation_1-auc:0.83357\n",
            "[125]\tvalidation_0-auc:0.90037\tvalidation_1-auc:0.83378\n",
            "[126]\tvalidation_0-auc:0.90062\tvalidation_1-auc:0.83369\n",
            "[127]\tvalidation_0-auc:0.90107\tvalidation_1-auc:0.83358\n",
            "[128]\tvalidation_0-auc:0.90122\tvalidation_1-auc:0.83341\n",
            "[129]\tvalidation_0-auc:0.90136\tvalidation_1-auc:0.83300\n",
            "[130]\tvalidation_0-auc:0.90152\tvalidation_1-auc:0.83284\n",
            "[131]\tvalidation_0-auc:0.90156\tvalidation_1-auc:0.83280\n",
            "[132]\tvalidation_0-auc:0.90196\tvalidation_1-auc:0.83283\n",
            "[133]\tvalidation_0-auc:0.90209\tvalidation_1-auc:0.83277\n",
            "[134]\tvalidation_0-auc:0.90241\tvalidation_1-auc:0.83273\n",
            "[135]\tvalidation_0-auc:0.90292\tvalidation_1-auc:0.83278\n",
            "[136]\tvalidation_0-auc:0.90340\tvalidation_1-auc:0.83287\n",
            "[137]\tvalidation_0-auc:0.90377\tvalidation_1-auc:0.83273\n",
            "[138]\tvalidation_0-auc:0.90401\tvalidation_1-auc:0.83286\n",
            "[139]\tvalidation_0-auc:0.90404\tvalidation_1-auc:0.83309\n"
          ]
        },
        {
          "data": {
            "text/plain": [
              "XGBClassifier(base_score=0.5, booster='gbtree', colsample_bylevel=1,\n",
              "              colsample_bynode=1, colsample_bytree=0.5325981930337212,\n",
              "              enable_categorical=False, eval_metric='logloss', gamma=0,\n",
              "              gpu_id=-1, importance_type=None, interaction_constraints='',\n",
              "              learning_rate=0.17220434779843125, max_delta_step=0, max_depth=4,\n",
              "              min_child_weight=1, missing=nan, monotone_constraints='()',\n",
              "              n_estimators=140, n_jobs=12, num_parallel_tree=1,\n",
              "              predictor='auto', random_state=42, reg_alpha=0, reg_lambda=1,\n",
              "              scale_pos_weight=1, subsample=0.7272220988660021,\n",
              "              tree_method='exact', validate_parameters=1, verbosity=None)"
            ]
          },
          "execution_count": 20,
          "metadata": {},
          "output_type": "execute_result"
        }
      ],
      "source": [
        "eval_list = [(X_tr, y_tr), (X_val, y_val)]\n",
        "\n",
        "best_model.fit(X_tr, y_tr,\n",
        "               early_stopping_rounds=100,\n",
        "               eval_set=eval_list,\n",
        "               eval_metric='auc'\n",
        "               )"
      ]
    },
    {
      "cell_type": "code",
      "execution_count": null,
      "metadata": {
        "id": "UfXmqFNTz3j1",
        "outputId": "3c272b6e-74b3-4470-9703-bb53d8a5e620"
      },
      "outputs": [
        {
          "data": {
            "text/plain": [
              "0.8413232972985847"
            ]
          },
          "execution_count": 21,
          "metadata": {},
          "output_type": "execute_result"
        }
      ],
      "source": [
        "from sklearn.metrics import roc_auc_score\n",
        "xgb_roc_score = roc_auc_score(y_test, best_model.predict_proba(X_test)[:,1])\n",
        "xgb_roc_score"
      ]
    },
    {
      "cell_type": "markdown",
      "metadata": {
        "id": "vK5kU8rez3j1"
      },
      "source": [
        "# 최적화 파라미터 기준 모델 평가\n",
        "\n",
        "n_estimator=500\n",
        "learning_rate = 0.15\n",
        "max_depth = 5\n"
      ]
    },
    {
      "cell_type": "code",
      "source": [],
      "metadata": {
        "id": "1mhhcHgsGN3E"
      },
      "execution_count": null,
      "outputs": []
    },
    {
      "cell_type": "markdown",
      "metadata": {
        "id": "fCOa0Icsz3j1"
      },
      "source": [
        "# LGBM 추가\n",
        "%%time\n",
        "<!--\n",
        "from xgboost import XGBClassifier\n",
        "from sklearn.metrics import roc_auc_score\n",
        "\n",
        "xgb_clf = XGBClassifier(n_estimator=500, learning_rate=0.05, random_state=156)\n",
        "xgb_clf.fit(X_tr, y_tr, early_stopping_rounds=100, eval_metric='auc', eval_set=[(X_tr, y_tr), (X_val, y_val)])\n",
        "xgb_roc_score = roc_auc_score(y_test, xgb_clf.predict_proba(X_test)[:, 1])\n",
        "xgb_roc_score -->"
      ]
    },
    {
      "cell_type": "code",
      "source": [
        "import lightgbm\n",
        "lightgbm.__version__"
      ],
      "metadata": {
        "colab": {
          "base_uri": "https://localhost:8080/",
          "height": 40
        },
        "id": "f7LUsC3gGE_3",
        "outputId": "4c7f922a-09a5-41ca-b4e0-de3a19f0e259"
      },
      "execution_count": 21,
      "outputs": [
        {
          "output_type": "execute_result",
          "data": {
            "text/plain": [
              "'4.5.0'"
            ],
            "application/vnd.google.colaboratory.intrinsic+json": {
              "type": "string"
            }
          },
          "metadata": {},
          "execution_count": 21
        }
      ]
    },
    {
      "cell_type": "markdown",
      "source": [
        "{'colsample_bytree': 0.5132064441508775,\n",
        " 'learning_rate': 0.056778045073597835,\n",
        " 'max_depth': 8.0,\n",
        " 'n_estimators': 220.0,\n",
        " 'subsample': 0.6525052716600095}"
      ],
      "metadata": {
        "id": "a30AD8glGnIR"
      }
    },
    {
      "cell_type": "code",
      "source": [],
      "metadata": {
        "id": "5bnknY-PKnKt"
      },
      "execution_count": 40,
      "outputs": []
    },
    {
      "cell_type": "code",
      "source": [
        "lgbm_clf = SklearnCompatibleLGBClassifier(n_estimators=220, early_stopping_rounds=50)"
      ],
      "metadata": {
        "id": "4awHyKkfGbVq"
      },
      "execution_count": 23,
      "outputs": []
    },
    {
      "cell_type": "code",
      "source": [
        "eval_set = [(X_tr, y_tr), (X_val, y_val)]\n"
      ],
      "metadata": {
        "id": "-muSvOktGzTW"
      },
      "execution_count": 24,
      "outputs": []
    },
    {
      "cell_type": "code",
      "source": [
        "lgbm_clf.fit(X_tr, y_tr, eval_set=eval_set, eval_metric='auc')"
      ],
      "metadata": {
        "colab": {
          "base_uri": "https://localhost:8080/",
          "height": 339
        },
        "id": "SQPrzNK-G3rj",
        "outputId": "c1ee0143-4b40-403f-85c5-b7f9000966a1"
      },
      "execution_count": 27,
      "outputs": [
        {
          "output_type": "stream",
          "name": "stdout",
          "text": [
            "[LightGBM] [Warning] early_stopping_round is set=50, early_stopping_rounds=50 will be ignored. Current value: early_stopping_round=50\n",
            "[LightGBM] [Info] Number of positive: 1658, number of negative: 40913\n",
            "[LightGBM] [Info] Auto-choosing row-wise multi-threading, the overhead of testing was 0.068278 seconds.\n",
            "You can set `force_row_wise=true` to remove the overhead.\n",
            "And if memory is not enough, you can set `force_col_wise=true`.\n",
            "[LightGBM] [Info] Total Bins 13308\n",
            "[LightGBM] [Info] Number of data points in the train set: 42571, number of used features: 242\n",
            "[LightGBM] [Warning] early_stopping_round is set=50, early_stopping_rounds=50 will be ignored. Current value: early_stopping_round=50\n",
            "[LightGBM] [Info] [binary:BoostFromScore]: pavg=0.038947 -> initscore=-3.205836\n",
            "[LightGBM] [Info] Start training from score -3.205836\n",
            "Training until validation scores don't improve for 50 rounds\n",
            "Early stopping, best iteration is:\n",
            "[42]\ttraining's auc: 0.91059\ttraining's binary_logloss: 0.112183\tvalid_1's auc: 0.831787\tvalid_1's binary_logloss: 0.13527\n"
          ]
        },
        {
          "output_type": "execute_result",
          "data": {
            "text/plain": [
              "LGBMClassifier(early_stopping_rounds=50, n_estimators=220)"
            ],
            "text/html": [
              "<style>#sk-container-id-1 {color: black;}#sk-container-id-1 pre{padding: 0;}#sk-container-id-1 div.sk-toggleable {background-color: white;}#sk-container-id-1 label.sk-toggleable__label {cursor: pointer;display: block;width: 100%;margin-bottom: 0;padding: 0.3em;box-sizing: border-box;text-align: center;}#sk-container-id-1 label.sk-toggleable__label-arrow:before {content: \"▸\";float: left;margin-right: 0.25em;color: #696969;}#sk-container-id-1 label.sk-toggleable__label-arrow:hover:before {color: black;}#sk-container-id-1 div.sk-estimator:hover label.sk-toggleable__label-arrow:before {color: black;}#sk-container-id-1 div.sk-toggleable__content {max-height: 0;max-width: 0;overflow: hidden;text-align: left;background-color: #f0f8ff;}#sk-container-id-1 div.sk-toggleable__content pre {margin: 0.2em;color: black;border-radius: 0.25em;background-color: #f0f8ff;}#sk-container-id-1 input.sk-toggleable__control:checked~div.sk-toggleable__content {max-height: 200px;max-width: 100%;overflow: auto;}#sk-container-id-1 input.sk-toggleable__control:checked~label.sk-toggleable__label-arrow:before {content: \"▾\";}#sk-container-id-1 div.sk-estimator input.sk-toggleable__control:checked~label.sk-toggleable__label {background-color: #d4ebff;}#sk-container-id-1 div.sk-label input.sk-toggleable__control:checked~label.sk-toggleable__label {background-color: #d4ebff;}#sk-container-id-1 input.sk-hidden--visually {border: 0;clip: rect(1px 1px 1px 1px);clip: rect(1px, 1px, 1px, 1px);height: 1px;margin: -1px;overflow: hidden;padding: 0;position: absolute;width: 1px;}#sk-container-id-1 div.sk-estimator {font-family: monospace;background-color: #f0f8ff;border: 1px dotted black;border-radius: 0.25em;box-sizing: border-box;margin-bottom: 0.5em;}#sk-container-id-1 div.sk-estimator:hover {background-color: #d4ebff;}#sk-container-id-1 div.sk-parallel-item::after {content: \"\";width: 100%;border-bottom: 1px solid gray;flex-grow: 1;}#sk-container-id-1 div.sk-label:hover label.sk-toggleable__label {background-color: #d4ebff;}#sk-container-id-1 div.sk-serial::before {content: \"\";position: absolute;border-left: 1px solid gray;box-sizing: border-box;top: 0;bottom: 0;left: 50%;z-index: 0;}#sk-container-id-1 div.sk-serial {display: flex;flex-direction: column;align-items: center;background-color: white;padding-right: 0.2em;padding-left: 0.2em;position: relative;}#sk-container-id-1 div.sk-item {position: relative;z-index: 1;}#sk-container-id-1 div.sk-parallel {display: flex;align-items: stretch;justify-content: center;background-color: white;position: relative;}#sk-container-id-1 div.sk-item::before, #sk-container-id-1 div.sk-parallel-item::before {content: \"\";position: absolute;border-left: 1px solid gray;box-sizing: border-box;top: 0;bottom: 0;left: 50%;z-index: -1;}#sk-container-id-1 div.sk-parallel-item {display: flex;flex-direction: column;z-index: 1;position: relative;background-color: white;}#sk-container-id-1 div.sk-parallel-item:first-child::after {align-self: flex-end;width: 50%;}#sk-container-id-1 div.sk-parallel-item:last-child::after {align-self: flex-start;width: 50%;}#sk-container-id-1 div.sk-parallel-item:only-child::after {width: 0;}#sk-container-id-1 div.sk-dashed-wrapped {border: 1px dashed gray;margin: 0 0.4em 0.5em 0.4em;box-sizing: border-box;padding-bottom: 0.4em;background-color: white;}#sk-container-id-1 div.sk-label label {font-family: monospace;font-weight: bold;display: inline-block;line-height: 1.2em;}#sk-container-id-1 div.sk-label-container {text-align: center;}#sk-container-id-1 div.sk-container {/* jupyter's `normalize.less` sets `[hidden] { display: none; }` but bootstrap.min.css set `[hidden] { display: none !important; }` so we also need the `!important` here to be able to override the default hidden behavior on the sphinx rendered scikit-learn.org. See: https://github.com/scikit-learn/scikit-learn/issues/21755 */display: inline-block !important;position: relative;}#sk-container-id-1 div.sk-text-repr-fallback {display: none;}</style><div id=\"sk-container-id-1\" class=\"sk-top-container\"><div class=\"sk-text-repr-fallback\"><pre>LGBMClassifier(early_stopping_rounds=50, n_estimators=220)</pre><b>In a Jupyter environment, please rerun this cell to show the HTML representation or trust the notebook. <br />On GitHub, the HTML representation is unable to render, please try loading this page with nbviewer.org.</b></div><div class=\"sk-container\" hidden><div class=\"sk-item\"><div class=\"sk-estimator sk-toggleable\"><input class=\"sk-toggleable__control sk-hidden--visually\" id=\"sk-estimator-id-1\" type=\"checkbox\" checked><label for=\"sk-estimator-id-1\" class=\"sk-toggleable__label sk-toggleable__label-arrow\">LGBMClassifier</label><div class=\"sk-toggleable__content\"><pre>LGBMClassifier(early_stopping_rounds=50, n_estimators=220)</pre></div></div></div></div></div>"
            ]
          },
          "metadata": {},
          "execution_count": 27
        }
      ]
    },
    {
      "cell_type": "code",
      "source": [
        "preds = lgbm_clf.predict(X_test)\n",
        "preds"
      ],
      "metadata": {
        "colab": {
          "base_uri": "https://localhost:8080/"
        },
        "id": "U87DDxqaHC9i",
        "outputId": "509f3391-442a-4f94-e497-0f49312fd323"
      },
      "execution_count": 28,
      "outputs": [
        {
          "output_type": "execute_result",
          "data": {
            "text/plain": [
              "array([0, 0, 0, ..., 0, 0, 0])"
            ]
          },
          "metadata": {},
          "execution_count": 28
        }
      ]
    },
    {
      "cell_type": "code",
      "source": [
        "lgbm_clf.predict_proba(X_test)[:,1]"
      ],
      "metadata": {
        "colab": {
          "base_uri": "https://localhost:8080/"
        },
        "id": "PJNtIM1fHSx2",
        "outputId": "b12bddf8-3826-4a66-ace1-9e86e6658595"
      },
      "execution_count": 29,
      "outputs": [
        {
          "output_type": "execute_result",
          "data": {
            "text/plain": [
              "array([0.00269141, 0.01391511, 0.00680896, ..., 0.11336295, 0.01466084,\n",
              "       0.01081332])"
            ]
          },
          "metadata": {},
          "execution_count": 29
        }
      ]
    },
    {
      "cell_type": "code",
      "source": [
        "from sklearn.metrics import roc_auc_score\n",
        "roc_auc_score(y_test, lgbm_clf.predict_proba(X_test)[:,1])"
      ],
      "metadata": {
        "colab": {
          "base_uri": "https://localhost:8080/"
        },
        "id": "EQlHyxskHcVF",
        "outputId": "bcecb80a-10cb-435a-94f9-d4db0ffbaf7c"
      },
      "execution_count": 31,
      "outputs": [
        {
          "output_type": "execute_result",
          "data": {
            "text/plain": [
              "0.8384286453518205"
            ]
          },
          "metadata": {},
          "execution_count": 31
        }
      ]
    },
    {
      "cell_type": "markdown",
      "source": [
        "# LGBM 하이퍼오피티 튜닝"
      ],
      "metadata": {
        "id": "jEwjEM7GHpBi"
      }
    },
    {
      "cell_type": "code",
      "source": [
        "from sklearn.base import BaseEstimator, ClassifierMixin\n",
        "from lightgbm import LGBMClassifier\n",
        "\n",
        "# Sklearn 호환 XGBoost 클래스 정의\n",
        "class SklearnCompatibleLGBClassifier(LGBMClassifier):\n",
        "    def __sklearn_tags__(self):\n",
        "        return {\"non_deterministic\": True}"
      ],
      "metadata": {
        "id": "CtMjP9HhHnuc"
      },
      "execution_count": 41,
      "outputs": []
    },
    {
      "cell_type": "code",
      "source": [
        "from hyperopt.pyll.base import scope\n",
        "import numpy as np\n",
        "\n",
        "# 하이퍼파라미터 검색공간\n",
        "search_space = {  'num_leaves': hp.quniform('num_leaves', 32, 64, 1),\n",
        "                  'max_depth': hp.quniform('max_depth', 100, 160, 1),\n",
        "                  'learning_rate': hp.loguniform('learning_rate', np.log(0.01), np.log(0.3)),\n",
        "                  'subsample':hp.uniform('subsample', 0.5, 1.0),\n",
        "                  'min_child_samples': hp.quniform('min_child_samples', 60, 100, 1),\n",
        "                }"
      ],
      "metadata": {
        "id": "q5FIFxyPHzAj"
      },
      "execution_count": 32,
      "outputs": []
    },
    {
      "cell_type": "code",
      "source": [
        "from hyperopt import fmin, tpe, Trials, STATUS_OK\n",
        "from xgboost import XGBClassifier\n",
        "from sklearn.model_selection import cross_val_score\n",
        "from sklearn.model_selection import KFold\n",
        "\n",
        "def objective_func_lgbm(params):\n",
        "\n",
        "    model = SklearnCompatibleLGBClassifier(\n",
        "        n_estimators= 100, #int(params['n_estimators']),\n",
        "        num_leaves=int(params['num_leaves']),\n",
        "        max_depth=int(params['max_depth']),\n",
        "        learning_rate=params['learning_rate'],\n",
        "        #subsample=params['subsample'],\n",
        "        min_child_samples=int(params['min_child_samples']),\n",
        "\n",
        "        random_state=42,\n",
        "        eval_metric='logloss',\n",
        "        early_stopping_rounds=30,\n",
        "    )\n",
        "    #k-fold 추가\n",
        "    roc_auc_list = []\n",
        "\n",
        "    kf = KFold(n_splits=3, shuffle=True, random_state=42)\n",
        "    for tr_idx, val_idx in kf.split(X_train, y_train):\n",
        "        tr_x, val_x = X_train.iloc[tr_idx], X_train.iloc[val_idx]\n",
        "        tr_y, val_y = y_train.iloc[tr_idx], y_train.iloc[val_idx]\n",
        "        model.fit(tr_x, tr_y, eval_set=[(tr_x, tr_y), (val_x, val_y)])\n",
        "\n",
        "        score = roc_auc_score(val_y, model.predict_proba(val_x)[:,1])\n",
        "        roc_auc_list.append(score)\n",
        "\n",
        "    #score_mean = cross_val_score(model, X_train, y_train, cv=5, scoring='accuracy').mean()\n",
        "    return {'loss': -1*np.mean(roc_auc_list) , 'status': STATUS_OK}\n",
        ""
      ],
      "metadata": {
        "id": "rp27mHv6Iea1"
      },
      "execution_count": 53,
      "outputs": []
    },
    {
      "cell_type": "code",
      "source": [
        "from hyperopt import fmin, tpe, Trials, STATUS_OK\n",
        "trials = Trials()\n",
        "best = fmin(fn=objective_func_lgbm, space=search_space, algo=tpe.suggest\n",
        "            , max_evals=50\n",
        "            , trials=trials\n",
        "            , rstate=np.random.default_rng(42))"
      ],
      "metadata": {
        "colab": {
          "base_uri": "https://localhost:8080/"
        },
        "id": "WlwNUlHkJusB",
        "outputId": "86e86826-7d34-4c3f-9e25-d798b405dbbe"
      },
      "execution_count": null,
      "outputs": [
        {
          "output_type": "stream",
          "name": "stdout",
          "text": [
            "[LightGBM] [Warning] Unknown parameter: eval_metric\n",
            "[LightGBM] [Warning] early_stopping_round is set=30, early_stopping_rounds=30 will be ignored. Current value: early_stopping_round=30\n",
            "[LightGBM] [Warning] Unknown parameter: eval_metric\n",
            "[LightGBM] [Info] Number of positive: 1601, number of negative: 38943\n",
            "[LightGBM] [Info] Auto-choosing row-wise multi-threading, the overhead of testing was 0.089563 seconds.\n",
            "You can set `force_row_wise=true` to remove the overhead.\n",
            "And if memory is not enough, you can set `force_col_wise=true`.\n",
            "[LightGBM] [Info] Total Bins 12860\n",
            "[LightGBM] [Info] Number of data points in the train set: 40544, number of used features: 192\n",
            "[LightGBM] [Warning] Unknown parameter: eval_metric\n",
            "[LightGBM] [Warning] early_stopping_round is set=30, early_stopping_rounds=30 will be ignored. Current value: early_stopping_round=30\n",
            "[LightGBM] [Info] [binary:BoostFromScore]: pavg=0.039488 -> initscore=-3.191471\n",
            "[LightGBM] [Info] Start training from score -3.191471\n",
            "Training until validation scores don't improve for 30 rounds\n",
            "Early stopping, best iteration is:\n",
            "[19]\ttraining's binary_logloss: 0.117155\tvalid_1's binary_logloss: 0.133268\n",
            "[LightGBM] [Warning] Unknown parameter: eval_metric\n",
            "[LightGBM] [Warning] Unknown parameter: eval_metric\n",
            "[LightGBM] [Warning] early_stopping_round is set=30, early_stopping_rounds=30 will be ignored. Current value: early_stopping_round=30\n",
            "[LightGBM] [Warning] Unknown parameter: eval_metric\n",
            "[LightGBM] [Info] Number of positive: 1586, number of negative: 38958\n",
            "[LightGBM] [Info] Auto-choosing row-wise multi-threading, the overhead of testing was 0.061180 seconds.\n",
            "You can set `force_row_wise=true` to remove the overhead.\n",
            "And if memory is not enough, you can set `force_col_wise=true`.\n",
            "[LightGBM] [Info] Total Bins 12852\n",
            "[LightGBM] [Info] Number of data points in the train set: 40544, number of used features: 192\n",
            "[LightGBM] [Warning] Unknown parameter: eval_metric\n",
            "[LightGBM] [Warning] early_stopping_round is set=30, early_stopping_rounds=30 will be ignored. Current value: early_stopping_round=30\n",
            "[LightGBM] [Info] [binary:BoostFromScore]: pavg=0.039118 -> initscore=-3.201269\n",
            "[LightGBM] [Info] Start training from score -3.201269\n",
            "Training until validation scores don't improve for 30 rounds\n",
            "Early stopping, best iteration is:\n",
            "[17]\ttraining's binary_logloss: 0.118347\tvalid_1's binary_logloss: 0.135849\n",
            "[LightGBM] [Warning] Unknown parameter: eval_metric\n",
            "[LightGBM] [Warning] Unknown parameter: eval_metric\n",
            "[LightGBM] [Warning] early_stopping_round is set=30, early_stopping_rounds=30 will be ignored. Current value: early_stopping_round=30\n",
            "[LightGBM] [Warning] Unknown parameter: eval_metric\n",
            "[LightGBM] [Info] Number of positive: 1561, number of negative: 38983\n",
            "[LightGBM] [Info] Auto-choosing row-wise multi-threading, the overhead of testing was 0.052477 seconds.\n",
            "You can set `force_row_wise=true` to remove the overhead.\n",
            "And if memory is not enough, you can set `force_col_wise=true`.\n",
            "[LightGBM] [Info] Total Bins 12869\n",
            "[LightGBM] [Info] Number of data points in the train set: 40544, number of used features: 192\n",
            "[LightGBM] [Warning] Unknown parameter: eval_metric\n",
            "[LightGBM] [Warning] early_stopping_round is set=30, early_stopping_rounds=30 will be ignored. Current value: early_stopping_round=30\n",
            "[LightGBM] [Info] [binary:BoostFromScore]: pavg=0.038501 -> initscore=-3.217799\n",
            "[LightGBM] [Info] Start training from score -3.217799\n",
            "Training until validation scores don't improve for 30 rounds\n",
            "Early stopping, best iteration is:\n",
            "[23]\ttraining's binary_logloss: 0.113319\tvalid_1's binary_logloss: 0.136368\n",
            "[LightGBM] [Warning] Unknown parameter: eval_metric\n",
            "[LightGBM] [Warning] Unknown parameter: eval_metric\n",
            "[LightGBM] [Warning] early_stopping_round is set=30, early_stopping_rounds=30 will be ignored. Current value: early_stopping_round=30\n",
            "[LightGBM] [Warning] Unknown parameter: eval_metric\n",
            "[LightGBM] [Info] Number of positive: 1601, number of negative: 38943\n",
            "[LightGBM] [Info] Auto-choosing row-wise multi-threading, the overhead of testing was 0.057901 seconds.\n",
            "You can set `force_row_wise=true` to remove the overhead.\n",
            "And if memory is not enough, you can set `force_col_wise=true`.\n",
            "[LightGBM] [Info] Total Bins 12860\n",
            "[LightGBM] [Info] Number of data points in the train set: 40544, number of used features: 192\n",
            "[LightGBM] [Warning] Unknown parameter: eval_metric\n",
            "[LightGBM] [Warning] early_stopping_round is set=30, early_stopping_rounds=30 will be ignored. Current value: early_stopping_round=30\n",
            "[LightGBM] [Info] [binary:BoostFromScore]: pavg=0.039488 -> initscore=-3.191471\n",
            "[LightGBM] [Info] Start training from score -3.191471\n",
            "Training until validation scores don't improve for 30 rounds\n",
            "Early stopping, best iteration is:\n",
            "[52]\ttraining's binary_logloss: 0.112676\tvalid_1's binary_logloss: 0.132641\n",
            "[LightGBM] [Warning] Unknown parameter: eval_metric\n",
            "[LightGBM] [Warning] Unknown parameter: eval_metric\n",
            "[LightGBM] [Warning] early_stopping_round is set=30, early_stopping_rounds=30 will be ignored. Current value: early_stopping_round=30\n",
            "[LightGBM] [Warning] Unknown parameter: eval_metric\n",
            "[LightGBM] [Info] Number of positive: 1586, number of negative: 38958\n",
            "[LightGBM] [Info] Auto-choosing row-wise multi-threading, the overhead of testing was 0.056553 seconds.\n",
            "You can set `force_row_wise=true` to remove the overhead.\n",
            "And if memory is not enough, you can set `force_col_wise=true`.\n",
            "[LightGBM] [Info] Total Bins 12852\n",
            "[LightGBM] [Info] Number of data points in the train set: 40544, number of used features: 192\n",
            "[LightGBM] [Warning] Unknown parameter: eval_metric\n",
            "[LightGBM] [Warning] early_stopping_round is set=30, early_stopping_rounds=30 will be ignored. Current value: early_stopping_round=30\n",
            "[LightGBM] [Info] [binary:BoostFromScore]: pavg=0.039118 -> initscore=-3.201269\n",
            "[LightGBM] [Info] Start training from score -3.201269\n",
            "Training until validation scores don't improve for 30 rounds\n",
            "Early stopping, best iteration is:\n",
            "[37]\ttraining's binary_logloss: 0.117288\tvalid_1's binary_logloss: 0.135361\n",
            "[LightGBM] [Warning] Unknown parameter: eval_metric\n",
            "[LightGBM] [Warning] Unknown parameter: eval_metric\n",
            "[LightGBM] [Warning] early_stopping_round is set=30, early_stopping_rounds=30 will be ignored. Current value: early_stopping_round=30\n",
            "[LightGBM] [Warning] Unknown parameter: eval_metric\n",
            "[LightGBM] [Info] Number of positive: 1561, number of negative: 38983\n",
            "[LightGBM] [Info] Auto-choosing row-wise multi-threading, the overhead of testing was 0.062814 seconds.\n",
            "You can set `force_row_wise=true` to remove the overhead.\n",
            "And if memory is not enough, you can set `force_col_wise=true`.\n",
            "[LightGBM] [Info] Total Bins 12869\n",
            "[LightGBM] [Info] Number of data points in the train set: 40544, number of used features: 192\n",
            "[LightGBM] [Warning] Unknown parameter: eval_metric\n",
            "[LightGBM] [Warning] early_stopping_round is set=30, early_stopping_rounds=30 will be ignored. Current value: early_stopping_round=30\n",
            "[LightGBM] [Info] [binary:BoostFromScore]: pavg=0.038501 -> initscore=-3.217799\n",
            "[LightGBM] [Info] Start training from score -3.217799\n",
            "Training until validation scores don't improve for 30 rounds\n",
            "Early stopping, best iteration is:\n",
            "[47]\ttraining's binary_logloss: 0.113083\tvalid_1's binary_logloss: 0.136041\n",
            "[LightGBM] [Warning] Unknown parameter: eval_metric\n",
            "[LightGBM] [Warning] Unknown parameter: eval_metric\n",
            "[LightGBM] [Warning] early_stopping_round is set=30, early_stopping_rounds=30 will be ignored. Current value: early_stopping_round=30\n",
            "[LightGBM] [Warning] Unknown parameter: eval_metric\n",
            "[LightGBM] [Info] Number of positive: 1601, number of negative: 38943\n",
            "[LightGBM] [Info] Auto-choosing row-wise multi-threading, the overhead of testing was 0.084725 seconds.\n",
            "You can set `force_row_wise=true` to remove the overhead.\n",
            "And if memory is not enough, you can set `force_col_wise=true`.\n",
            "[LightGBM] [Info] Total Bins 12860\n",
            "[LightGBM] [Info] Number of data points in the train set: 40544, number of used features: 192\n",
            "[LightGBM] [Warning] Unknown parameter: eval_metric\n",
            "[LightGBM] [Warning] early_stopping_round is set=30, early_stopping_rounds=30 will be ignored. Current value: early_stopping_round=30\n",
            "[LightGBM] [Info] [binary:BoostFromScore]: pavg=0.039488 -> initscore=-3.191471\n",
            "[LightGBM] [Info] Start training from score -3.191471\n",
            "Training until validation scores don't improve for 30 rounds\n",
            "Early stopping, best iteration is:\n",
            "[50]\ttraining's binary_logloss: 0.117935\tvalid_1's binary_logloss: 0.132003\n",
            "[LightGBM] [Warning] Unknown parameter: eval_metric\n",
            "[LightGBM] [Warning] Unknown parameter: eval_metric\n",
            "[LightGBM] [Warning] early_stopping_round is set=30, early_stopping_rounds=30 will be ignored. Current value: early_stopping_round=30\n",
            "[LightGBM] [Warning] Unknown parameter: eval_metric\n",
            "[LightGBM] [Info] Number of positive: 1586, number of negative: 38958\n",
            "[LightGBM] [Info] Auto-choosing row-wise multi-threading, the overhead of testing was 0.056888 seconds.\n",
            "You can set `force_row_wise=true` to remove the overhead.\n",
            "And if memory is not enough, you can set `force_col_wise=true`.\n",
            "[LightGBM] [Info] Total Bins 12852\n",
            "[LightGBM] [Info] Number of data points in the train set: 40544, number of used features: 192\n",
            "[LightGBM] [Warning] Unknown parameter: eval_metric\n",
            "[LightGBM] [Warning] early_stopping_round is set=30, early_stopping_rounds=30 will be ignored. Current value: early_stopping_round=30\n",
            "[LightGBM] [Info] [binary:BoostFromScore]: pavg=0.039118 -> initscore=-3.201269\n",
            "[LightGBM] [Info] Start training from score -3.201269\n",
            "Training until validation scores don't improve for 30 rounds\n",
            "Early stopping, best iteration is:\n",
            "[50]\ttraining's binary_logloss: 0.117415\tvalid_1's binary_logloss: 0.134764\n",
            "[LightGBM] [Warning] Unknown parameter: eval_metric\n",
            "[LightGBM] [Warning] Unknown parameter: eval_metric\n",
            "[LightGBM] [Warning] early_stopping_round is set=30, early_stopping_rounds=30 will be ignored. Current value: early_stopping_round=30\n",
            "[LightGBM] [Warning] Unknown parameter: eval_metric\n",
            "[LightGBM] [Info] Number of positive: 1561, number of negative: 38983\n",
            "[LightGBM] [Info] Auto-choosing row-wise multi-threading, the overhead of testing was 0.056572 seconds.\n",
            "You can set `force_row_wise=true` to remove the overhead.\n",
            "And if memory is not enough, you can set `force_col_wise=true`.\n",
            "[LightGBM] [Info] Total Bins 12869\n",
            "[LightGBM] [Info] Number of data points in the train set: 40544, number of used features: 192\n",
            "[LightGBM] [Warning] Unknown parameter: eval_metric\n",
            "[LightGBM] [Warning] early_stopping_round is set=30, early_stopping_rounds=30 will be ignored. Current value: early_stopping_round=30\n",
            "[LightGBM] [Info] [binary:BoostFromScore]: pavg=0.038501 -> initscore=-3.217799\n",
            "[LightGBM] [Info] Start training from score -3.217799\n",
            "Training until validation scores don't improve for 30 rounds\n",
            "Early stopping, best iteration is:\n",
            "[60]\ttraining's binary_logloss: 0.114347\tvalid_1's binary_logloss: 0.135454\n",
            "[LightGBM] [Warning] Unknown parameter: eval_metric\n",
            "[LightGBM] [Warning] Unknown parameter: eval_metric\n",
            "[LightGBM] [Warning] early_stopping_round is set=30, early_stopping_rounds=30 will be ignored. Current value: early_stopping_round=30\n",
            "[LightGBM] [Warning] Unknown parameter: eval_metric\n",
            "[LightGBM] [Info] Number of positive: 1601, number of negative: 38943\n",
            "[LightGBM] [Info] Auto-choosing row-wise multi-threading, the overhead of testing was 0.056946 seconds.\n",
            "You can set `force_row_wise=true` to remove the overhead.\n",
            "And if memory is not enough, you can set `force_col_wise=true`.\n",
            "[LightGBM] [Info] Total Bins 12860\n",
            "[LightGBM] [Info] Number of data points in the train set: 40544, number of used features: 192\n",
            "[LightGBM] [Warning] Unknown parameter: eval_metric\n",
            "[LightGBM] [Warning] early_stopping_round is set=30, early_stopping_rounds=30 will be ignored. Current value: early_stopping_round=30\n",
            "[LightGBM] [Info] [binary:BoostFromScore]: pavg=0.039488 -> initscore=-3.191471\n",
            "[LightGBM] [Info] Start training from score -3.191471\n",
            "Training until validation scores don't improve for 30 rounds\n",
            "Did not meet early stopping. Best iteration is:\n",
            "[100]\ttraining's binary_logloss: 0.129636\tvalid_1's binary_logloss: 0.134995\n",
            "[LightGBM] [Warning] Unknown parameter: eval_metric\n",
            "[LightGBM] [Warning] Unknown parameter: eval_metric\n",
            "[LightGBM] [Warning] early_stopping_round is set=30, early_stopping_rounds=30 will be ignored. Current value: early_stopping_round=30\n",
            "[LightGBM] [Warning] Unknown parameter: eval_metric\n",
            "[LightGBM] [Info] Number of positive: 1586, number of negative: 38958\n",
            "[LightGBM] [Info] Auto-choosing row-wise multi-threading, the overhead of testing was 0.061299 seconds.\n",
            "You can set `force_row_wise=true` to remove the overhead.\n",
            "And if memory is not enough, you can set `force_col_wise=true`.\n",
            "[LightGBM] [Info] Total Bins 12852\n",
            "[LightGBM] [Info] Number of data points in the train set: 40544, number of used features: 192\n",
            "[LightGBM] [Warning] Unknown parameter: eval_metric\n",
            "[LightGBM] [Warning] early_stopping_round is set=30, early_stopping_rounds=30 will be ignored. Current value: early_stopping_round=30\n",
            "[LightGBM] [Info] [binary:BoostFromScore]: pavg=0.039118 -> initscore=-3.201269\n",
            "[LightGBM] [Info] Start training from score -3.201269\n",
            "Training until validation scores don't improve for 30 rounds\n",
            "Did not meet early stopping. Best iteration is:\n",
            "[100]\ttraining's binary_logloss: 0.128837\tvalid_1's binary_logloss: 0.137448\n",
            "[LightGBM] [Warning] Unknown parameter: eval_metric\n",
            "[LightGBM] [Warning] Unknown parameter: eval_metric\n",
            "[LightGBM] [Warning] early_stopping_round is set=30, early_stopping_rounds=30 will be ignored. Current value: early_stopping_round=30\n",
            "[LightGBM] [Warning] Unknown parameter: eval_metric\n",
            "[LightGBM] [Info] Number of positive: 1561, number of negative: 38983\n",
            "[LightGBM] [Info] Auto-choosing row-wise multi-threading, the overhead of testing was 0.059432 seconds.\n",
            "You can set `force_row_wise=true` to remove the overhead.\n",
            "And if memory is not enough, you can set `force_col_wise=true`.\n",
            "[LightGBM] [Info] Total Bins 12869\n",
            "[LightGBM] [Info] Number of data points in the train set: 40544, number of used features: 192\n",
            "[LightGBM] [Warning] Unknown parameter: eval_metric\n",
            "[LightGBM] [Warning] early_stopping_round is set=30, early_stopping_rounds=30 will be ignored. Current value: early_stopping_round=30\n",
            "[LightGBM] [Info] [binary:BoostFromScore]: pavg=0.038501 -> initscore=-3.217799\n",
            "[LightGBM] [Info] Start training from score -3.217799\n",
            "Training until validation scores don't improve for 30 rounds\n",
            "Did not meet early stopping. Best iteration is:\n",
            "[100]\ttraining's binary_logloss: 0.128022\tvalid_1's binary_logloss: 0.138945\n",
            "[LightGBM] [Warning] Unknown parameter: eval_metric\n",
            "[LightGBM] [Warning] Unknown parameter: eval_metric\n",
            "[LightGBM] [Warning] early_stopping_round is set=30, early_stopping_rounds=30 will be ignored. Current value: early_stopping_round=30\n",
            "                                                                                 "
          ]
        }
      ]
    },
    {
      "cell_type": "code",
      "source": [],
      "metadata": {
        "id": "CFXY1YGPJh0Z"
      },
      "execution_count": null,
      "outputs": []
    }
  ],
  "metadata": {
    "kernelspec": {
      "display_name": "Python 3",
      "name": "python3"
    },
    "language_info": {
      "codemirror_mode": {
        "name": "ipython",
        "version": 3
      },
      "file_extension": ".py",
      "mimetype": "text/x-python",
      "name": "python",
      "nbconvert_exporter": "python",
      "pygments_lexer": "ipython3",
      "version": "3.9.21"
    },
    "colab": {
      "provenance": [],
      "toc_visible": true,
      "gpuType": "T4",
      "include_colab_link": true
    },
    "accelerator": "GPU"
  },
  "nbformat": 4,
  "nbformat_minor": 0
}