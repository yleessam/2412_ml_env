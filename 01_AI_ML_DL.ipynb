{
 "cells": [
  {
   "cell_type": "code",
   "execution_count": 7,
   "metadata": {},
   "outputs": [
    {
     "name": "stdout",
     "output_type": "stream",
     "text": [
      "결과 : 52\n"
     ]
    }
   ],
   "source": [
    "#전통적인 방식의 프로그램\n",
    "#인공지능\n",
    "def my_function(x):\n",
    "    return 5*x+7\n",
    "\n",
    "\n",
    "val = int(input('숫자를 입력하세요..'))\n",
    "ret = my_function(val)\n",
    "\n",
    "print(f'결과 : {ret}')"
   ]
  },
  {
   "cell_type": "code",
   "execution_count": 6,
   "metadata": {},
   "outputs": [
    {
     "data": {
      "text/plain": [
       "array([[52.]])"
      ]
     },
     "execution_count": 6,
     "metadata": {},
     "output_type": "execute_result"
    }
   ],
   "source": [
    "#머신러닝\n",
    "import numpy\n",
    "from sklearn import linear_model #모델 선택\n",
    "\n",
    "#입력값 - 문제\n",
    "X_train = numpy.array([1,2,3,4,5,6,7]).reshape(-1, 1)\n",
    "#X_train\n",
    "\n",
    "#결과값 - 정답\n",
    "y_train = numpy.array([12, 17, 22, 27, 32, 37, 42]).reshape(-1,1)\n",
    "\n",
    "#선형회귀 모델객체 - 깡통\n",
    "model = linear_model.LinearRegression()\n",
    "\n",
    "#데이터 넣어주기 - 학습\n",
    "model.fit(X_train, y_train)\n",
    "\n",
    "#예측\n",
    "predict = model.predict([[9]])\n",
    "predict\n"
   ]
  },
  {
   "cell_type": "code",
   "execution_count": 10,
   "metadata": {},
   "outputs": [
    {
     "name": "stdout",
     "output_type": "stream",
     "text": [
      "\u001b[1m1/1\u001b[0m \u001b[32m━━━━━━━━━━━━━━━━━━━━\u001b[0m\u001b[37m\u001b[0m \u001b[1m0s\u001b[0m 40ms/step\n"
     ]
    },
    {
     "data": {
      "text/plain": [
       "array([[52.10373]], dtype=float32)"
      ]
     },
     "execution_count": 10,
     "metadata": {},
     "output_type": "execute_result"
    }
   ],
   "source": [
    "# DL\n",
    "\n",
    "import tensorflow as tf\n",
    "\n",
    "X_train = numpy.array([1,2,3,4,5,6,7]).reshape(-1, 1)\n",
    "y_train = numpy.array([12, 17, 22, 27, 32, 37, 42]).reshape(-1,1)\n",
    "\n",
    "inputs = tf.keras.layers.Input(shape=(1,)) #입력층\n",
    "outputs = tf.keras.layers.Dense(units=1)(inputs) #출력층\n",
    "\n",
    "#모델객체 생성 - 특정 모델을 지칭하지 않음.\n",
    "model = tf.keras.models.Model(inputs, outputs)\n",
    "\n",
    "#모델객체 속성 지정 - 손실함수, 옵티마이저\n",
    "model.compile(\n",
    "    loss = tf.keras.losses.MeanSquaredError(),\n",
    "    optimizer = tf.keras.optimizers.SGD()\n",
    ")\n",
    "\n",
    "#학습\n",
    "model.fit(X_train, y_train, epochs=1000, verbose=0)\n",
    "\n",
    "#예측\n",
    "predict = model.predict(numpy.array([[9]]))\n",
    "predict"
   ]
  }
 ],
 "metadata": {
  "kernelspec": {
   "display_name": "ml_env",
   "language": "python",
   "name": "python3"
  },
  "language_info": {
   "codemirror_mode": {
    "name": "ipython",
    "version": 3
   },
   "file_extension": ".py",
   "mimetype": "text/x-python",
   "name": "python",
   "nbconvert_exporter": "python",
   "pygments_lexer": "ipython3",
   "version": "3.9.21"
  }
 },
 "nbformat": 4,
 "nbformat_minor": 2
}
