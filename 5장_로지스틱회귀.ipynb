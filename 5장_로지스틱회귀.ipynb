{
 "cells": [
  {
   "cell_type": "code",
   "execution_count": 4,
   "metadata": {},
   "outputs": [],
   "source": [
    "import pandas as pd\n",
    "import matplotlib.pyplot as plt\n",
    "\n",
    "from sklearn.datasets import load_breast_cancer\n",
    "from sklearn.model_selection import train_test_split\n",
    "from sklearn.linear_model import LogisticRegression\n",
    "from sklearn.preprocessing import StandardScaler\n",
    "\n",
    "dataset = load_breast_cancer()\n",
    "\n",
    "scaler = StandardScaler()\n",
    "dataset_scaled = scaler.fit_transform(dataset.data)\n",
    "\n",
    "X_train, X_test, y_train, y_test = train_test_split(dataset_scaled, dataset.target, test_size=0.3, random_state=0)\n"
   ]
  },
  {
   "cell_type": "code",
   "execution_count": 5,
   "metadata": {},
   "outputs": [
    {
     "name": "stdout",
     "output_type": "stream",
     "text": [
      "accuracy : 0.9766081871345029, roc_auc : 0.9715608465608465 \n"
     ]
    }
   ],
   "source": [
    "from sklearn.metrics import accuracy_score, roc_auc_score\n",
    "\n",
    "lr_clf = LogisticRegression()\n",
    "lr_clf.fit(X_train, y_train)\n",
    "lr_preds = lr_clf.predict(X_test)\n",
    "lr_preds_proba = lr_clf.predict_log_proba(X_test)[:,1]\n",
    "\n",
    "print(f'accuracy : {accuracy_score(y_test, lr_preds)}, roc_auc : {roc_auc_score(y_test, lr_preds)} ')"
   ]
  },
  {
   "cell_type": "code",
   "execution_count": 6,
   "metadata": {},
   "outputs": [
    {
     "name": "stdout",
     "output_type": "stream",
     "text": [
      " solver lbfgs :: accuracy : 0.9766081871345029, roc_auc : 0.9715608465608465 \n",
      " solver liblinear :: accuracy : 0.9824561403508771, roc_auc : 0.9794973544973544 \n",
      " solver newton-cg :: accuracy : 0.9766081871345029, roc_auc : 0.9715608465608465 \n",
      " solver sag :: accuracy : 0.9824561403508771, roc_auc : 0.9794973544973544 \n",
      " solver saga :: accuracy : 0.9824561403508771, roc_auc : 0.9794973544973544 \n"
     ]
    }
   ],
   "source": [
    "solvers = ['lbfgs', 'liblinear', 'newton-cg', 'sag', 'saga']\n",
    "\n",
    "for solver in solvers:\n",
    "    lr_clf = LogisticRegression(solver=solver, max_iter=600)\n",
    "    lr_clf.fit(X_train, y_train)\n",
    "    lr_preds = lr_clf.predict(X_test)\n",
    "    lr_preds_proba = lr_clf.predict_log_proba(X_test)[:,1]\n",
    "\n",
    "    print(f' solver {solver} :: accuracy : {accuracy_score(y_test, lr_preds)}, roc_auc : {roc_auc_score(y_test, lr_preds)} ')"
   ]
  },
  {
   "cell_type": "markdown",
   "metadata": {},
   "source": [
    "liblinear, saga : l1, l2\n",
    "lbfgs, newton-cg, sag : l2\n",
    "\n",
    "C: alpha 역수 > 작을 수록 규제가 크다"
   ]
  },
  {
   "cell_type": "code",
   "execution_count": 26,
   "metadata": {},
   "outputs": [
    {
     "name": "stdout",
     "output_type": "stream",
     "text": [
      "Best parameter : {'C': 0.1, 'penalty': 'l2', 'solver': 'liblinear'}, Best_accuracy 0.9789102385593614\n"
     ]
    }
   ],
   "source": [
    "\n",
    "from sklearn.model_selection import GridSearchCV\n",
    "\n",
    "# params = {\n",
    "#     'solver': ['liblinear', 'lbfgs'],\n",
    "#     'penalty': ['l2', 'l1'],\n",
    "#     'C' : [0.01, 0.1, 1, 5, 10, ]\n",
    "# }\n",
    "params = [\n",
    "    {'solver': ['liblinear'], 'penalty': ['l1', 'l2'], 'C': [0.01, 0.1, 1, 5, 10, 100]},\n",
    "    {'solver': ['lbfgs', 'newton-cg'], 'penalty': ['l2'], 'C': [0.1, 1, 5, 10, 100]}\n",
    "]\n",
    "lr_clf = LogisticRegression(max_iter=1000)\n",
    "\n",
    "grid_clf = GridSearchCV(lr_clf, param_grid=params, scoring='accuracy', cv=3)\n",
    "grid_clf.fit(dataset_scaled, dataset.target)\n",
    "print(f'Best parameter : {grid_clf.best_params_}, Best_accuracy {grid_clf.best_score_}')"
   ]
  },
  {
   "cell_type": "markdown",
   "metadata": {},
   "source": [
    "Best parameter : {'C': 0.01, 'penalty': 'l2', 'solver': 'liblinear'}, Best_accuracy 0.9648565859092174\n",
    "Best parameter : {'C': 0.1, 'penalty': 'l2', 'solver': 'liblinear'}, Best_accuracy 0.9789102385593614\n",
    "\n",
    "accuracy : 0.9532163742690059, roc_auc : 0.9497354497354497 \n",
    "accuracy : 0.9707602339181286, roc_auc : 0.9636243386243386 "
   ]
  },
  {
   "cell_type": "code",
   "execution_count": 27,
   "metadata": {},
   "outputs": [
    {
     "name": "stdout",
     "output_type": "stream",
     "text": [
      "accuracy : 0.9707602339181286, roc_auc : 0.9636243386243386 \n"
     ]
    }
   ],
   "source": [
    "best_param = grid_clf.best_params_\n",
    "\n",
    "best_lr_clf = LogisticRegression(**best_param)\n",
    "best_lr_clf.fit(X_train, y_train)\n",
    "\n",
    "lr_preds = best_lr_clf.predict(X_test)\n",
    "lr_preds_proba = best_lr_clf.predict_log_proba(X_test)[:,1]\n",
    "\n",
    "print(f'accuracy : {accuracy_score(y_test, lr_preds)}, roc_auc : {roc_auc_score(y_test, lr_preds)} ')"
   ]
  }
 ],
 "metadata": {
  "kernelspec": {
   "display_name": "xgboost_env",
   "language": "python",
   "name": "python3"
  },
  "language_info": {
   "codemirror_mode": {
    "name": "ipython",
    "version": 3
   },
   "file_extension": ".py",
   "mimetype": "text/x-python",
   "name": "python",
   "nbconvert_exporter": "python",
   "pygments_lexer": "ipython3",
   "version": "3.9.21"
  }
 },
 "nbformat": 4,
 "nbformat_minor": 2
}
